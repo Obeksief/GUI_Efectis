{
 "cells": [
  {
   "cell_type": "code",
   "execution_count": 6,
   "metadata": {},
   "outputs": [],
   "source": [
    "import optuna\n",
    "import numpy as np\n",
    "import pandas as pd\n",
    "\n",
    "from sklearn.model_selection import train_test_split\n",
    "from sklearn.model_selection import cross_val_score\n",
    "from sklearn.metrics import mean_squared_error, mean_absolute_error, mean_absolute_percentage_error\n",
    "\n",
    "from sklearn.preprocessing import StandardScaler\n",
    "\n",
    "from sklearn.ensemble import RandomForestRegressor\n",
    "from sklearn.neural_network import MLPRegressor\n",
    "import xgboost as xgb\n",
    "import catboost as cb\n",
    "\n"
   ]
  },
  {
   "cell_type": "code",
   "execution_count": 3,
   "metadata": {},
   "outputs": [],
   "source": [
    "data = pd.read_excel('Donnees.xlsx')"
   ]
  },
  {
   "cell_type": "code",
   "execution_count": 4,
   "metadata": {},
   "outputs": [],
   "source": [
    "X = data.drop(columns=['y'])\n",
    "y = data['y']"
   ]
  },
  {
   "cell_type": "code",
   "execution_count": 5,
   "metadata": {},
   "outputs": [],
   "source": [
    "X_train, X_test, y_train, y_test = train_test_split(X, y, test_size = 0.15, random_state = 2)"
   ]
  },
  {
   "cell_type": "code",
   "execution_count": 36,
   "metadata": {},
   "outputs": [
    {
     "name": "stderr",
     "output_type": "stream",
     "text": [
      "[I 2024-07-12 13:55:30,192] A new study created in memory with name: no-name-1219bc90-da37-4da9-999a-a0b56c511650\n"
     ]
    }
   ],
   "source": [
    "def objective(trial):\n",
    "    n_estimators = trial.suggest_int('n_estimators', 100, 2000)\n",
    "    max_depth = trial.suggest_int('max_depth', 4, 10)\n",
    "    subsample = trial.suggest_float('subsample', 0.01, 1)\n",
    "    tree_method = trial.suggest_categorical('tree_method', ['auto', 'hist', 'approx'])\n",
    "    colsample_bytree = trial.suggest_float('colsample_bytree', 0.01, 1)\n",
    "    eta = trial.suggest_float('eta', 0.01, 1)\n",
    "    min_child_weight = trial.suggest_int('min_child_weight', 1, 50)\n",
    "\n",
    "    \n",
    "    model = xgb.XGBRegressor( n_estimators= n_estimators,\n",
    "                                  max_depth=max_depth,\n",
    "                                  subsample=subsample,\n",
    "                                  tree_method=tree_method,\n",
    "                                  colsample_bytree=colsample_bytree,\n",
    "                                  eta=eta,\n",
    "                                  min_child_weight=min_child_weight\n",
    "                                  )\n",
    "    \n",
    "    score = cross_val_score(model, X_train, y_train, cv=3, scoring= 'neg_mean_squared_error')\n",
    "    \n",
    "    return score.mean()\n",
    "\n",
    "study = optuna.create_study(direction='minimize', sampler= optuna.samplers.RandomSampler())"
   ]
  },
  {
   "cell_type": "code",
   "execution_count": 37,
   "metadata": {},
   "outputs": [
    {
     "name": "stderr",
     "output_type": "stream",
     "text": [
      "[I 2024-07-12 13:55:34,320] Trial 0 finished with value: -3055.5110724410238 and parameters: {'n_estimators': 1192, 'max_depth': 10, 'subsample': 0.9316476086308488, 'tree_method': 'approx', 'colsample_bytree': 0.5526602840403889, 'eta': 0.31424354424651557, 'min_child_weight': 20}. Best is trial 0 with value: -3055.5110724410238.\n",
      "[I 2024-07-12 13:55:34,736] Trial 1 finished with value: -464295.7117161951 and parameters: {'n_estimators': 614, 'max_depth': 6, 'subsample': 0.13744326104035492, 'tree_method': 'hist', 'colsample_bytree': 0.43946113268829917, 'eta': 0.3257526567264982, 'min_child_weight': 29}. Best is trial 1 with value: -464295.7117161951.\n",
      "[I 2024-07-12 13:55:36,828] Trial 2 finished with value: -1570.8973879612731 and parameters: {'n_estimators': 1904, 'max_depth': 5, 'subsample': 0.939036534756173, 'tree_method': 'auto', 'colsample_bytree': 0.901738304247258, 'eta': 0.7328730119980018, 'min_child_weight': 10}. Best is trial 1 with value: -464295.7117161951.\n",
      "[I 2024-07-12 13:55:37,594] Trial 3 finished with value: -8393.4102176862 and parameters: {'n_estimators': 759, 'max_depth': 6, 'subsample': 0.5305302761861902, 'tree_method': 'approx', 'colsample_bytree': 0.9682676652616686, 'eta': 0.06656604486186313, 'min_child_weight': 31}. Best is trial 1 with value: -464295.7117161951.\n",
      "[I 2024-07-12 13:55:38,395] Trial 4 finished with value: -36626.686113697375 and parameters: {'n_estimators': 865, 'max_depth': 5, 'subsample': 0.3655095826659147, 'tree_method': 'approx', 'colsample_bytree': 0.6042909645740214, 'eta': 0.10588884134119576, 'min_child_weight': 36}. Best is trial 1 with value: -464295.7117161951.\n",
      "[I 2024-07-12 13:55:38,950] Trial 5 finished with value: -787850.7819055496 and parameters: {'n_estimators': 815, 'max_depth': 5, 'subsample': 0.025065982289372894, 'tree_method': 'hist', 'colsample_bytree': 0.577636861541218, 'eta': 0.2195074614296784, 'min_child_weight': 34}. Best is trial 5 with value: -787850.7819055496.\n",
      "[I 2024-07-12 13:55:40,285] Trial 6 finished with value: -5436.720822106277 and parameters: {'n_estimators': 853, 'max_depth': 7, 'subsample': 0.4438326005916791, 'tree_method': 'approx', 'colsample_bytree': 0.7194472267112751, 'eta': 0.5318832514527644, 'min_child_weight': 12}. Best is trial 5 with value: -787850.7819055496.\n",
      "[I 2024-07-12 13:55:40,612] Trial 7 finished with value: -49863.02331334015 and parameters: {'n_estimators': 310, 'max_depth': 8, 'subsample': 0.32082601130231847, 'tree_method': 'auto', 'colsample_bytree': 0.15180592607950533, 'eta': 0.4213023466123674, 'min_child_weight': 35}. Best is trial 5 with value: -787850.7819055496.\n",
      "[I 2024-07-12 13:55:41,801] Trial 8 finished with value: -34194.93126740507 and parameters: {'n_estimators': 1636, 'max_depth': 9, 'subsample': 0.1568320544296997, 'tree_method': 'hist', 'colsample_bytree': 0.47241720351209743, 'eta': 0.8364465137597363, 'min_child_weight': 19}. Best is trial 5 with value: -787850.7819055496.\n",
      "[I 2024-07-12 13:55:42,198] Trial 9 finished with value: -24712.751639783528 and parameters: {'n_estimators': 424, 'max_depth': 4, 'subsample': 0.3234093698225605, 'tree_method': 'hist', 'colsample_bytree': 0.510338981195072, 'eta': 0.6146506014709537, 'min_child_weight': 29}. Best is trial 5 with value: -787850.7819055496.\n",
      "[I 2024-07-12 13:55:42,672] Trial 10 finished with value: -22498.823252954593 and parameters: {'n_estimators': 369, 'max_depth': 7, 'subsample': 0.45577274326956635, 'tree_method': 'approx', 'colsample_bytree': 0.07276616441414688, 'eta': 0.9621757583435231, 'min_child_weight': 37}. Best is trial 5 with value: -787850.7819055496.\n",
      "[I 2024-07-12 13:55:43,236] Trial 11 finished with value: -798521.0514337476 and parameters: {'n_estimators': 950, 'max_depth': 8, 'subsample': 0.24511618307496313, 'tree_method': 'auto', 'colsample_bytree': 0.44033198352363734, 'eta': 0.8597975262494916, 'min_child_weight': 46}. Best is trial 11 with value: -798521.0514337476.\n",
      "[I 2024-07-12 13:55:44,434] Trial 12 finished with value: -124767.19693183858 and parameters: {'n_estimators': 1811, 'max_depth': 8, 'subsample': 0.31158130170419457, 'tree_method': 'auto', 'colsample_bytree': 0.5363542903391307, 'eta': 0.34766658925452015, 'min_child_weight': 50}. Best is trial 11 with value: -798521.0514337476.\n",
      "[I 2024-07-12 13:55:47,151] Trial 13 finished with value: -4232.406999611528 and parameters: {'n_estimators': 1328, 'max_depth': 10, 'subsample': 0.664086352481903, 'tree_method': 'hist', 'colsample_bytree': 0.20752704184068582, 'eta': 0.9267587590149483, 'min_child_weight': 7}. Best is trial 11 with value: -798521.0514337476.\n",
      "[I 2024-07-12 13:55:47,431] Trial 14 finished with value: -6945.499957388337 and parameters: {'n_estimators': 269, 'max_depth': 5, 'subsample': 0.5747478087876834, 'tree_method': 'auto', 'colsample_bytree': 0.7522868992199334, 'eta': 0.42895667405515014, 'min_child_weight': 30}. Best is trial 11 with value: -798521.0514337476.\n",
      "[I 2024-07-12 13:55:47,751] Trial 15 finished with value: -46612.017793259 and parameters: {'n_estimators': 352, 'max_depth': 8, 'subsample': 0.4171353255612301, 'tree_method': 'approx', 'colsample_bytree': 0.12333576680813661, 'eta': 0.3581298532794785, 'min_child_weight': 42}. Best is trial 11 with value: -798521.0514337476.\n",
      "[I 2024-07-12 13:55:48,930] Trial 16 finished with value: -11175.768822615028 and parameters: {'n_estimators': 1388, 'max_depth': 9, 'subsample': 0.1465986853494648, 'tree_method': 'hist', 'colsample_bytree': 0.10620423932435015, 'eta': 0.7572020690137864, 'min_child_weight': 10}. Best is trial 11 with value: -798521.0514337476.\n",
      "[I 2024-07-12 13:55:49,361] Trial 17 finished with value: -31992.912667054934 and parameters: {'n_estimators': 530, 'max_depth': 5, 'subsample': 0.14119524290533975, 'tree_method': 'approx', 'colsample_bytree': 0.6832440967043346, 'eta': 0.9294103202202406, 'min_child_weight': 13}. Best is trial 11 with value: -798521.0514337476.\n",
      "[I 2024-07-12 13:55:49,860] Trial 18 finished with value: -4833.0249027975915 and parameters: {'n_estimators': 410, 'max_depth': 10, 'subsample': 0.8323962745160356, 'tree_method': 'approx', 'colsample_bytree': 0.10393575974746748, 'eta': 0.20351300626750043, 'min_child_weight': 33}. Best is trial 11 with value: -798521.0514337476.\n",
      "[I 2024-07-12 13:55:51,041] Trial 19 finished with value: -5766.6970118537365 and parameters: {'n_estimators': 1111, 'max_depth': 6, 'subsample': 0.38805683992270434, 'tree_method': 'auto', 'colsample_bytree': 0.3794126938410536, 'eta': 0.6571112571029912, 'min_child_weight': 18}. Best is trial 11 with value: -798521.0514337476.\n",
      "[I 2024-07-12 13:55:52,483] Trial 20 finished with value: -8663.703356049742 and parameters: {'n_estimators': 1609, 'max_depth': 5, 'subsample': 0.8141617073343018, 'tree_method': 'hist', 'colsample_bytree': 0.9142602834954551, 'eta': 0.03515692116914201, 'min_child_weight': 44}. Best is trial 11 with value: -798521.0514337476.\n",
      "[I 2024-07-12 13:55:53,422] Trial 21 finished with value: -50658.00665151904 and parameters: {'n_estimators': 1449, 'max_depth': 8, 'subsample': 0.28623072020809776, 'tree_method': 'auto', 'colsample_bytree': 0.7060826016957076, 'eta': 0.724055719561992, 'min_child_weight': 34}. Best is trial 11 with value: -798521.0514337476.\n",
      "[I 2024-07-12 13:55:54,283] Trial 22 finished with value: -1856.5347133580237 and parameters: {'n_estimators': 665, 'max_depth': 5, 'subsample': 0.7653095050356666, 'tree_method': 'auto', 'colsample_bytree': 0.9929395489965106, 'eta': 0.7091293782113413, 'min_child_weight': 8}. Best is trial 11 with value: -798521.0514337476.\n",
      "[I 2024-07-12 13:55:54,882] Trial 23 finished with value: -2210.5942103173434 and parameters: {'n_estimators': 408, 'max_depth': 9, 'subsample': 0.8879229671276101, 'tree_method': 'auto', 'colsample_bytree': 0.07068751509742502, 'eta': 0.8995844056951712, 'min_child_weight': 16}. Best is trial 11 with value: -798521.0514337476.\n",
      "[I 2024-07-12 13:55:56,149] Trial 24 finished with value: -1843.9883353222306 and parameters: {'n_estimators': 814, 'max_depth': 7, 'subsample': 0.3269437955091967, 'tree_method': 'approx', 'colsample_bytree': 0.37466195514355327, 'eta': 0.8690017365143161, 'min_child_weight': 7}. Best is trial 11 with value: -798521.0514337476.\n",
      "[I 2024-07-12 13:55:59,111] Trial 25 finished with value: -1172.9732335189303 and parameters: {'n_estimators': 1999, 'max_depth': 7, 'subsample': 0.8045545831629747, 'tree_method': 'hist', 'colsample_bytree': 0.8037974387424509, 'eta': 0.3043252478490255, 'min_child_weight': 12}. Best is trial 11 with value: -798521.0514337476.\n",
      "[I 2024-07-12 13:55:59,309] Trial 26 finished with value: -7980.909349630155 and parameters: {'n_estimators': 177, 'max_depth': 9, 'subsample': 0.8577466514363629, 'tree_method': 'approx', 'colsample_bytree': 0.7197641433321101, 'eta': 0.082181222203666, 'min_child_weight': 43}. Best is trial 11 with value: -798521.0514337476.\n",
      "[I 2024-07-12 13:55:59,913] Trial 27 finished with value: -6786.471835351047 and parameters: {'n_estimators': 731, 'max_depth': 5, 'subsample': 0.5589823737276812, 'tree_method': 'auto', 'colsample_bytree': 0.13385946378545596, 'eta': 0.13050641780043964, 'min_child_weight': 30}. Best is trial 11 with value: -798521.0514337476.\n",
      "[I 2024-07-12 13:56:02,100] Trial 28 finished with value: -1826.4123641190436 and parameters: {'n_estimators': 1638, 'max_depth': 8, 'subsample': 0.5617931592591229, 'tree_method': 'auto', 'colsample_bytree': 0.8542021095083658, 'eta': 0.2547017486648367, 'min_child_weight': 13}. Best is trial 11 with value: -798521.0514337476.\n",
      "[I 2024-07-12 13:56:02,550] Trial 29 finished with value: -43355.6824335878 and parameters: {'n_estimators': 664, 'max_depth': 6, 'subsample': 0.4060733524652394, 'tree_method': 'approx', 'colsample_bytree': 0.8845765089976498, 'eta': 0.6734358984176703, 'min_child_weight': 43}. Best is trial 11 with value: -798521.0514337476.\n",
      "[I 2024-07-12 13:56:03,383] Trial 30 finished with value: -28733.89736993933 and parameters: {'n_estimators': 1263, 'max_depth': 8, 'subsample': 0.3944922780027255, 'tree_method': 'approx', 'colsample_bytree': 0.9575981182883627, 'eta': 0.33058207011722557, 'min_child_weight': 38}. Best is trial 11 with value: -798521.0514337476.\n",
      "[I 2024-07-12 13:56:04,785] Trial 31 finished with value: -7695.80990646903 and parameters: {'n_estimators': 1458, 'max_depth': 6, 'subsample': 0.8276594204146026, 'tree_method': 'auto', 'colsample_bytree': 0.13313023009738284, 'eta': 0.9443410854829827, 'min_child_weight': 34}. Best is trial 11 with value: -798521.0514337476.\n",
      "[I 2024-07-12 13:56:05,238] Trial 32 finished with value: -787850.7819055496 and parameters: {'n_estimators': 766, 'max_depth': 7, 'subsample': 0.01769689028579892, 'tree_method': 'auto', 'colsample_bytree': 0.9198170735681639, 'eta': 0.05009783280440075, 'min_child_weight': 35}. Best is trial 11 with value: -798521.0514337476.\n",
      "[I 2024-07-12 13:56:05,600] Trial 33 finished with value: -787850.7819055496 and parameters: {'n_estimators': 676, 'max_depth': 10, 'subsample': 0.10659180160444343, 'tree_method': 'auto', 'colsample_bytree': 0.3027071392165402, 'eta': 0.988670446953032, 'min_child_weight': 49}. Best is trial 11 with value: -798521.0514337476.\n",
      "[I 2024-07-12 13:56:06,051] Trial 34 finished with value: -2864.5898536194272 and parameters: {'n_estimators': 416, 'max_depth': 4, 'subsample': 0.519028105634851, 'tree_method': 'hist', 'colsample_bytree': 0.3518264103835272, 'eta': 0.3003149837141573, 'min_child_weight': 4}. Best is trial 11 with value: -798521.0514337476.\n",
      "[I 2024-07-12 13:56:07,466] Trial 35 finished with value: -14395.691542819084 and parameters: {'n_estimators': 1946, 'max_depth': 9, 'subsample': 0.7483612987529674, 'tree_method': 'hist', 'colsample_bytree': 0.35402009374746646, 'eta': 0.20859384840788725, 'min_child_weight': 49}. Best is trial 11 with value: -798521.0514337476.\n",
      "[I 2024-07-12 13:56:07,787] Trial 36 finished with value: -6056.363296177449 and parameters: {'n_estimators': 286, 'max_depth': 4, 'subsample': 0.8998511503911619, 'tree_method': 'approx', 'colsample_bytree': 0.7362281505840496, 'eta': 0.5433896709854438, 'min_child_weight': 33}. Best is trial 11 with value: -798521.0514337476.\n",
      "[I 2024-07-12 13:56:08,000] Trial 37 finished with value: -8126.897367851344 and parameters: {'n_estimators': 194, 'max_depth': 4, 'subsample': 0.5548744971550237, 'tree_method': 'auto', 'colsample_bytree': 0.9111642134115339, 'eta': 0.3171660381027535, 'min_child_weight': 31}. Best is trial 11 with value: -798521.0514337476.\n",
      "[I 2024-07-12 13:56:08,832] Trial 38 finished with value: -3502.1379728558877 and parameters: {'n_estimators': 949, 'max_depth': 4, 'subsample': 0.30232950919578333, 'tree_method': 'hist', 'colsample_bytree': 0.05027183575012639, 'eta': 0.32119347171208446, 'min_child_weight': 13}. Best is trial 11 with value: -798521.0514337476.\n",
      "[I 2024-07-12 13:56:10,023] Trial 39 finished with value: -5179.644543188666 and parameters: {'n_estimators': 1121, 'max_depth': 10, 'subsample': 0.9788546347043607, 'tree_method': 'hist', 'colsample_bytree': 0.43944361142612753, 'eta': 0.9753868490972677, 'min_child_weight': 29}. Best is trial 11 with value: -798521.0514337476.\n",
      "[I 2024-07-12 13:56:10,783] Trial 40 finished with value: -165639.36473800874 and parameters: {'n_estimators': 780, 'max_depth': 4, 'subsample': 0.14231631125935137, 'tree_method': 'auto', 'colsample_bytree': 0.9534829882512997, 'eta': 0.7435953662143064, 'min_child_weight': 5}. Best is trial 11 with value: -798521.0514337476.\n",
      "[I 2024-07-12 13:56:11,217] Trial 41 finished with value: -11604.256320481682 and parameters: {'n_estimators': 544, 'max_depth': 8, 'subsample': 0.5535457773247391, 'tree_method': 'auto', 'colsample_bytree': 0.2691275222352251, 'eta': 0.788321251607439, 'min_child_weight': 35}. Best is trial 11 with value: -798521.0514337476.\n",
      "[I 2024-07-12 13:56:11,449] Trial 42 finished with value: -8990.479745750868 and parameters: {'n_estimators': 215, 'max_depth': 7, 'subsample': 0.7736933619889279, 'tree_method': 'approx', 'colsample_bytree': 0.23892000604104124, 'eta': 0.5379622114884429, 'min_child_weight': 41}. Best is trial 11 with value: -798521.0514337476.\n",
      "[I 2024-07-12 13:56:12,082] Trial 43 finished with value: -14663.184292397034 and parameters: {'n_estimators': 943, 'max_depth': 6, 'subsample': 0.24147422345611663, 'tree_method': 'auto', 'colsample_bytree': 0.1629045359174314, 'eta': 0.5786768296345316, 'min_child_weight': 21}. Best is trial 11 with value: -798521.0514337476.\n",
      "[I 2024-07-12 13:56:12,833] Trial 44 finished with value: -790286.7271072752 and parameters: {'n_estimators': 1538, 'max_depth': 10, 'subsample': 0.15132266706255335, 'tree_method': 'auto', 'colsample_bytree': 0.9329232523501254, 'eta': 0.31854611318868264, 'min_child_weight': 36}. Best is trial 11 with value: -798521.0514337476.\n",
      "[I 2024-07-12 13:56:12,983] Trial 45 finished with value: -9834.71558434375 and parameters: {'n_estimators': 116, 'max_depth': 9, 'subsample': 0.1743646356403011, 'tree_method': 'approx', 'colsample_bytree': 0.020245261905380504, 'eta': 0.8637657228527341, 'min_child_weight': 8}. Best is trial 11 with value: -798521.0514337476.\n",
      "[I 2024-07-12 13:56:14,418] Trial 46 finished with value: -3382.2270995503204 and parameters: {'n_estimators': 1643, 'max_depth': 5, 'subsample': 0.32174631142992804, 'tree_method': 'auto', 'colsample_bytree': 0.8171130315069582, 'eta': 0.6460752180545509, 'min_child_weight': 1}. Best is trial 11 with value: -798521.0514337476.\n",
      "[I 2024-07-12 13:56:16,566] Trial 47 finished with value: -4445.29818367992 and parameters: {'n_estimators': 1995, 'max_depth': 9, 'subsample': 0.7633925203044868, 'tree_method': 'hist', 'colsample_bytree': 0.8556387879635792, 'eta': 0.14150236432553184, 'min_child_weight': 26}. Best is trial 11 with value: -798521.0514337476.\n",
      "[I 2024-07-12 13:56:17,186] Trial 48 finished with value: -19419.156621893166 and parameters: {'n_estimators': 844, 'max_depth': 4, 'subsample': 0.481066697057414, 'tree_method': 'approx', 'colsample_bytree': 0.4613510621718861, 'eta': 0.22532814323747635, 'min_child_weight': 38}. Best is trial 11 with value: -798521.0514337476.\n",
      "[I 2024-07-12 13:56:17,332] Trial 49 finished with value: -34018.97601437809 and parameters: {'n_estimators': 142, 'max_depth': 10, 'subsample': 0.49083759554755313, 'tree_method': 'hist', 'colsample_bytree': 0.22443264952000047, 'eta': 0.052801741011085916, 'min_child_weight': 37}. Best is trial 11 with value: -798521.0514337476.\n",
      "[I 2024-07-12 13:56:17,549] Trial 50 finished with value: -798684.3299552273 and parameters: {'n_estimators': 385, 'max_depth': 8, 'subsample': 0.049583087900974085, 'tree_method': 'approx', 'colsample_bytree': 0.7717291802827911, 'eta': 0.13853607484689553, 'min_child_weight': 24}. Best is trial 50 with value: -798684.3299552273.\n",
      "[I 2024-07-12 13:56:19,034] Trial 51 finished with value: -7071.114749293562 and parameters: {'n_estimators': 1170, 'max_depth': 10, 'subsample': 0.12561750861073218, 'tree_method': 'approx', 'colsample_bytree': 0.40160156307858097, 'eta': 0.8933673239831528, 'min_child_weight': 1}. Best is trial 50 with value: -798684.3299552273.\n",
      "[I 2024-07-12 13:56:19,162] Trial 52 finished with value: -790244.2148959319 and parameters: {'n_estimators': 189, 'max_depth': 5, 'subsample': 0.0754214380056987, 'tree_method': 'approx', 'colsample_bytree': 0.06402299268029285, 'eta': 0.1953168468903307, 'min_child_weight': 29}. Best is trial 50 with value: -798684.3299552273.\n",
      "[I 2024-07-12 13:56:21,715] Trial 53 finished with value: -5237.706857475399 and parameters: {'n_estimators': 1598, 'max_depth': 7, 'subsample': 0.5123650491114317, 'tree_method': 'approx', 'colsample_bytree': 0.94601755615758, 'eta': 0.32917620982235246, 'min_child_weight': 6}. Best is trial 50 with value: -798684.3299552273.\n",
      "[I 2024-07-12 13:56:22,063] Trial 54 finished with value: -8360.824866358818 and parameters: {'n_estimators': 351, 'max_depth': 5, 'subsample': 0.7687002886997313, 'tree_method': 'approx', 'colsample_bytree': 0.30048467412042756, 'eta': 0.042064389371879514, 'min_child_weight': 37}. Best is trial 50 with value: -798684.3299552273.\n",
      "[I 2024-07-12 13:56:22,962] Trial 55 finished with value: -24597.971243423686 and parameters: {'n_estimators': 1357, 'max_depth': 10, 'subsample': 0.406721259991059, 'tree_method': 'approx', 'colsample_bytree': 0.13492688090495034, 'eta': 0.33379677427672716, 'min_child_weight': 36}. Best is trial 50 with value: -798684.3299552273.\n",
      "[I 2024-07-12 13:56:23,174] Trial 56 finished with value: -3448.839893677947 and parameters: {'n_estimators': 135, 'max_depth': 6, 'subsample': 0.6365676947742431, 'tree_method': 'approx', 'colsample_bytree': 0.15556966129236444, 'eta': 0.46638043583500066, 'min_child_weight': 12}. Best is trial 50 with value: -798684.3299552273.\n",
      "[I 2024-07-12 13:56:24,607] Trial 57 finished with value: -2689.449605431381 and parameters: {'n_estimators': 1546, 'max_depth': 6, 'subsample': 0.23550308678986975, 'tree_method': 'auto', 'colsample_bytree': 0.2667978751479019, 'eta': 0.3279869086433084, 'min_child_weight': 9}. Best is trial 50 with value: -798684.3299552273.\n",
      "[I 2024-07-12 13:56:24,948] Trial 58 finished with value: -9633.761893211327 and parameters: {'n_estimators': 372, 'max_depth': 5, 'subsample': 0.6079365635382967, 'tree_method': 'auto', 'colsample_bytree': 0.08832077949794791, 'eta': 0.5651473841343629, 'min_child_weight': 35}. Best is trial 50 with value: -798684.3299552273.\n",
      "[I 2024-07-12 13:56:25,905] Trial 59 finished with value: -14595.281487509814 and parameters: {'n_estimators': 1241, 'max_depth': 7, 'subsample': 0.5068172845204932, 'tree_method': 'auto', 'colsample_bytree': 0.9916226289851845, 'eta': 0.5729579926150812, 'min_child_weight': 34}. Best is trial 50 with value: -798684.3299552273.\n",
      "[I 2024-07-12 13:56:26,715] Trial 60 finished with value: -7060.882732281888 and parameters: {'n_estimators': 832, 'max_depth': 6, 'subsample': 0.9845340507174659, 'tree_method': 'hist', 'colsample_bytree': 0.7408681482220552, 'eta': 0.33064432535030475, 'min_child_weight': 41}. Best is trial 50 with value: -798684.3299552273.\n",
      "[I 2024-07-12 13:56:27,565] Trial 61 finished with value: -787850.7819055496 and parameters: {'n_estimators': 1781, 'max_depth': 10, 'subsample': 0.016922364825998775, 'tree_method': 'auto', 'colsample_bytree': 0.16620020767732085, 'eta': 0.17187065386698475, 'min_child_weight': 47}. Best is trial 50 with value: -798684.3299552273.\n",
      "[I 2024-07-12 13:56:27,731] Trial 62 finished with value: -24746.915046333408 and parameters: {'n_estimators': 160, 'max_depth': 10, 'subsample': 0.4033179725946459, 'tree_method': 'approx', 'colsample_bytree': 0.9209376305277593, 'eta': 0.7453612873694891, 'min_child_weight': 34}. Best is trial 50 with value: -798684.3299552273.\n",
      "[I 2024-07-12 13:56:28,116] Trial 63 finished with value: -33710.9616270239 and parameters: {'n_estimators': 565, 'max_depth': 8, 'subsample': 0.3621885442045179, 'tree_method': 'auto', 'colsample_bytree': 0.9201723435497354, 'eta': 0.19069073760539923, 'min_child_weight': 36}. Best is trial 50 with value: -798684.3299552273.\n",
      "[I 2024-07-12 13:56:29,225] Trial 64 finished with value: -12188.383909625578 and parameters: {'n_estimators': 1405, 'max_depth': 7, 'subsample': 0.6946089152090064, 'tree_method': 'hist', 'colsample_bytree': 0.06486754816403113, 'eta': 0.9776933944980339, 'min_child_weight': 39}. Best is trial 50 with value: -798684.3299552273.\n",
      "[I 2024-07-12 13:56:30,065] Trial 65 finished with value: -4614.413075328935 and parameters: {'n_estimators': 942, 'max_depth': 5, 'subsample': 0.8911839424833866, 'tree_method': 'hist', 'colsample_bytree': 0.6643955041656946, 'eta': 0.07862436606601964, 'min_child_weight': 35}. Best is trial 50 with value: -798684.3299552273.\n",
      "[I 2024-07-12 13:56:30,632] Trial 66 finished with value: -786175.0123204906 and parameters: {'n_estimators': 1172, 'max_depth': 6, 'subsample': 0.19748305957680093, 'tree_method': 'hist', 'colsample_bytree': 0.24072183591740184, 'eta': 0.11741114407450055, 'min_child_weight': 42}. Best is trial 50 with value: -798684.3299552273.\n",
      "[I 2024-07-12 13:56:31,033] Trial 67 finished with value: -35391.56199589835 and parameters: {'n_estimators': 578, 'max_depth': 6, 'subsample': 0.5466314359568247, 'tree_method': 'hist', 'colsample_bytree': 0.017855609409461615, 'eta': 0.827534093675933, 'min_child_weight': 50}. Best is trial 50 with value: -798684.3299552273.\n",
      "[I 2024-07-12 13:56:31,894] Trial 68 finished with value: -787850.7819055496 and parameters: {'n_estimators': 1777, 'max_depth': 5, 'subsample': 0.06477180868698279, 'tree_method': 'hist', 'colsample_bytree': 0.42413368607932683, 'eta': 0.3280587164796042, 'min_child_weight': 37}. Best is trial 50 with value: -798684.3299552273.\n",
      "[I 2024-07-12 13:56:33,483] Trial 69 finished with value: -9743.638720420291 and parameters: {'n_estimators': 1821, 'max_depth': 9, 'subsample': 0.5579841325998769, 'tree_method': 'hist', 'colsample_bytree': 0.9004476916179115, 'eta': 0.7336213596589819, 'min_child_weight': 28}. Best is trial 50 with value: -798684.3299552273.\n",
      "[I 2024-07-12 13:56:34,315] Trial 70 finished with value: -793362.9872670689 and parameters: {'n_estimators': 1744, 'max_depth': 6, 'subsample': 0.14948842341485158, 'tree_method': 'hist', 'colsample_bytree': 0.026915795672283235, 'eta': 0.30424333020374056, 'min_child_weight': 44}. Best is trial 50 with value: -798684.3299552273.\n",
      "[I 2024-07-12 13:56:35,165] Trial 71 finished with value: -3833.3805170657665 and parameters: {'n_estimators': 841, 'max_depth': 10, 'subsample': 0.7723670469679728, 'tree_method': 'hist', 'colsample_bytree': 0.47128304616041267, 'eta': 0.3724665448187545, 'min_child_weight': 25}. Best is trial 50 with value: -798684.3299552273.\n",
      "[I 2024-07-12 13:56:36,633] Trial 72 finished with value: -5524.691991552428 and parameters: {'n_estimators': 1187, 'max_depth': 7, 'subsample': 0.49058980051613926, 'tree_method': 'auto', 'colsample_bytree': 0.8941579804552061, 'eta': 0.7817352783896492, 'min_child_weight': 12}. Best is trial 50 with value: -798684.3299552273.\n",
      "[I 2024-07-12 13:56:37,965] Trial 73 finished with value: -1636.9133064147863 and parameters: {'n_estimators': 929, 'max_depth': 6, 'subsample': 0.7187762718125518, 'tree_method': 'auto', 'colsample_bytree': 0.7207705400738429, 'eta': 0.29326888009240265, 'min_child_weight': 4}. Best is trial 50 with value: -798684.3299552273.\n",
      "[I 2024-07-12 13:56:38,548] Trial 74 finished with value: -2246.1411053778343 and parameters: {'n_estimators': 350, 'max_depth': 9, 'subsample': 0.562542783398176, 'tree_method': 'approx', 'colsample_bytree': 0.12327742557669245, 'eta': 0.31505349092249646, 'min_child_weight': 7}. Best is trial 50 with value: -798684.3299552273.\n",
      "[I 2024-07-12 13:56:39,148] Trial 75 finished with value: -37510.19998094488 and parameters: {'n_estimators': 1128, 'max_depth': 8, 'subsample': 0.06802220491574715, 'tree_method': 'approx', 'colsample_bytree': 0.18003844260381763, 'eta': 0.7455710534288467, 'min_child_weight': 12}. Best is trial 50 with value: -798684.3299552273.\n",
      "[I 2024-07-12 13:56:40,225] Trial 76 finished with value: -2314.7012935738853 and parameters: {'n_estimators': 1134, 'max_depth': 4, 'subsample': 0.5694431346075117, 'tree_method': 'hist', 'colsample_bytree': 0.6261489111039802, 'eta': 0.6802933162615918, 'min_child_weight': 10}. Best is trial 50 with value: -798684.3299552273.\n",
      "[I 2024-07-12 13:56:41,069] Trial 77 finished with value: -10965.614068366876 and parameters: {'n_estimators': 1032, 'max_depth': 8, 'subsample': 0.848950923075799, 'tree_method': 'hist', 'colsample_bytree': 0.6954505168192457, 'eta': 0.022082482644555736, 'min_child_weight': 49}. Best is trial 50 with value: -798684.3299552273.\n",
      "[I 2024-07-12 13:56:41,384] Trial 78 finished with value: -27420.21168519572 and parameters: {'n_estimators': 446, 'max_depth': 7, 'subsample': 0.2059648466006365, 'tree_method': 'approx', 'colsample_bytree': 0.42352655050616145, 'eta': 0.3703172584127822, 'min_child_weight': 20}. Best is trial 50 with value: -798684.3299552273.\n",
      "[I 2024-07-12 13:56:41,573] Trial 79 finished with value: -16842.50393107925 and parameters: {'n_estimators': 123, 'max_depth': 6, 'subsample': 0.19575500656135697, 'tree_method': 'auto', 'colsample_bytree': 0.8207849563025426, 'eta': 0.8145641142307565, 'min_child_weight': 6}. Best is trial 50 with value: -798684.3299552273.\n",
      "[I 2024-07-12 13:56:42,816] Trial 80 finished with value: -2063.281035482969 and parameters: {'n_estimators': 1259, 'max_depth': 4, 'subsample': 0.9450956267117778, 'tree_method': 'hist', 'colsample_bytree': 0.768943712929633, 'eta': 0.47788317946650644, 'min_child_weight': 18}. Best is trial 50 with value: -798684.3299552273.\n",
      "[I 2024-07-12 13:56:43,162] Trial 81 finished with value: -18188.18833880969 and parameters: {'n_estimators': 298, 'max_depth': 4, 'subsample': 0.8573518266893402, 'tree_method': 'hist', 'colsample_bytree': 0.897091403173733, 'eta': 0.012076288552851854, 'min_child_weight': 31}. Best is trial 50 with value: -798684.3299552273.\n",
      "[I 2024-07-12 13:56:43,814] Trial 82 finished with value: -72135.23401943647 and parameters: {'n_estimators': 1115, 'max_depth': 10, 'subsample': 0.36894505577385184, 'tree_method': 'hist', 'colsample_bytree': 0.6562468588261408, 'eta': 0.48547875367923254, 'min_child_weight': 48}. Best is trial 50 with value: -798684.3299552273.\n",
      "[I 2024-07-12 13:56:45,098] Trial 83 finished with value: -3784.2223359330396 and parameters: {'n_estimators': 1420, 'max_depth': 4, 'subsample': 0.49244643483299394, 'tree_method': 'approx', 'colsample_bytree': 0.4432873507301055, 'eta': 0.3695465400817826, 'min_child_weight': 19}. Best is trial 50 with value: -798684.3299552273.\n",
      "[I 2024-07-12 13:56:45,323] Trial 84 finished with value: -30066.4680495206 and parameters: {'n_estimators': 264, 'max_depth': 4, 'subsample': 0.510187267077599, 'tree_method': 'auto', 'colsample_bytree': 0.2754388100374603, 'eta': 0.15989804512310396, 'min_child_weight': 43}. Best is trial 50 with value: -798684.3299552273.\n",
      "[I 2024-07-12 13:56:45,485] Trial 85 finished with value: -54564.147730192424 and parameters: {'n_estimators': 185, 'max_depth': 9, 'subsample': 0.4966226304616828, 'tree_method': 'approx', 'colsample_bytree': 0.2425566839789477, 'eta': 0.32233164367687556, 'min_child_weight': 49}. Best is trial 50 with value: -798684.3299552273.\n",
      "[I 2024-07-12 13:56:46,325] Trial 86 finished with value: -90013.3929361292 and parameters: {'n_estimators': 1539, 'max_depth': 4, 'subsample': 0.34637998703454687, 'tree_method': 'hist', 'colsample_bytree': 0.2647554416343912, 'eta': 0.6675826123175612, 'min_child_weight': 49}. Best is trial 50 with value: -798684.3299552273.\n",
      "[I 2024-07-12 13:56:47,716] Trial 87 finished with value: -13089.14977347374 and parameters: {'n_estimators': 1299, 'max_depth': 4, 'subsample': 0.2812139845007951, 'tree_method': 'hist', 'colsample_bytree': 0.2177601238786298, 'eta': 0.8550572056609613, 'min_child_weight': 1}. Best is trial 50 with value: -798684.3299552273.\n",
      "[I 2024-07-12 13:56:48,185] Trial 88 finished with value: -16287.985197245756 and parameters: {'n_estimators': 625, 'max_depth': 8, 'subsample': 0.6906317806633947, 'tree_method': 'hist', 'colsample_bytree': 0.517709083760267, 'eta': 0.43065369206288107, 'min_child_weight': 48}. Best is trial 50 with value: -798684.3299552273.\n",
      "[I 2024-07-12 13:56:49,069] Trial 89 finished with value: -413315.88640820305 and parameters: {'n_estimators': 1804, 'max_depth': 10, 'subsample': 0.039031697207046204, 'tree_method': 'approx', 'colsample_bytree': 0.5867658274618907, 'eta': 0.36646303716768536, 'min_child_weight': 11}. Best is trial 50 with value: -798684.3299552273.\n",
      "[I 2024-07-12 13:56:50,914] Trial 90 finished with value: -2364.216741721449 and parameters: {'n_estimators': 1823, 'max_depth': 10, 'subsample': 0.27381839029322574, 'tree_method': 'approx', 'colsample_bytree': 0.3493648014715963, 'eta': 0.030108505833237154, 'min_child_weight': 8}. Best is trial 50 with value: -798684.3299552273.\n",
      "[I 2024-07-12 13:56:51,816] Trial 91 finished with value: -803307.6798562867 and parameters: {'n_estimators': 1853, 'max_depth': 10, 'subsample': 0.12398723893661416, 'tree_method': 'approx', 'colsample_bytree': 0.3049920449700719, 'eta': 0.3474687183046401, 'min_child_weight': 39}. Best is trial 91 with value: -803307.6798562867.\n",
      "[I 2024-07-12 13:56:53,745] Trial 92 finished with value: -4257.906751598631 and parameters: {'n_estimators': 1192, 'max_depth': 7, 'subsample': 0.8454535192282215, 'tree_method': 'approx', 'colsample_bytree': 0.8036703389705258, 'eta': 0.36383463184924514, 'min_child_weight': 11}. Best is trial 91 with value: -803307.6798562867.\n",
      "[I 2024-07-12 13:56:56,934] Trial 93 finished with value: -3169.5639643352283 and parameters: {'n_estimators': 1686, 'max_depth': 10, 'subsample': 0.9719147403596928, 'tree_method': 'approx', 'colsample_bytree': 0.8445352952532269, 'eta': 0.052168669513889356, 'min_child_weight': 14}. Best is trial 91 with value: -803307.6798562867.\n",
      "[I 2024-07-12 13:56:57,710] Trial 94 finished with value: -11014.26121499136 and parameters: {'n_estimators': 806, 'max_depth': 4, 'subsample': 0.8255742002065527, 'tree_method': 'auto', 'colsample_bytree': 0.4493557721465518, 'eta': 0.3035424724104449, 'min_child_weight': 48}. Best is trial 91 with value: -803307.6798562867.\n",
      "[I 2024-07-12 13:57:02,447] Trial 95 finished with value: -29088.230307000496 and parameters: {'n_estimators': 1943, 'max_depth': 7, 'subsample': 0.9358248986715904, 'tree_method': 'approx', 'colsample_bytree': 0.4621289451769865, 'eta': 0.41882412099899713, 'min_child_weight': 3}. Best is trial 91 with value: -803307.6798562867.\n",
      "[I 2024-07-12 13:57:04,540] Trial 96 finished with value: -1068.6575355373927 and parameters: {'n_estimators': 1199, 'max_depth': 6, 'subsample': 0.6733410907481528, 'tree_method': 'hist', 'colsample_bytree': 0.9265136345415171, 'eta': 0.24971755273224722, 'min_child_weight': 9}. Best is trial 91 with value: -803307.6798562867.\n",
      "[I 2024-07-12 13:57:05,030] Trial 97 finished with value: -15126.177069285004 and parameters: {'n_estimators': 353, 'max_depth': 5, 'subsample': 0.060712015472710615, 'tree_method': 'hist', 'colsample_bytree': 0.8760713580855367, 'eta': 0.42960097564462785, 'min_child_weight': 5}. Best is trial 91 with value: -803307.6798562867.\n",
      "[I 2024-07-12 13:57:06,351] Trial 98 finished with value: -10957.61644131101 and parameters: {'n_estimators': 1247, 'max_depth': 10, 'subsample': 0.7262705486964309, 'tree_method': 'hist', 'colsample_bytree': 0.19539107465133015, 'eta': 0.6150056249719773, 'min_child_weight': 42}. Best is trial 91 with value: -803307.6798562867.\n",
      "[I 2024-07-12 13:57:06,613] Trial 99 finished with value: -15867.45056816465 and parameters: {'n_estimators': 287, 'max_depth': 7, 'subsample': 0.564452385921937, 'tree_method': 'approx', 'colsample_bytree': 0.7272221701481221, 'eta': 0.6655714717830942, 'min_child_weight': 38}. Best is trial 91 with value: -803307.6798562867.\n"
     ]
    }
   ],
   "source": [
    "study.optimize(objective, n_trials=100)"
   ]
  },
  {
   "cell_type": "code",
   "execution_count": 38,
   "metadata": {},
   "outputs": [
    {
     "data": {
      "application/vnd.plotly.v1+json": {
       "config": {
        "plotlyServerURL": "https://plot.ly"
       },
       "data": [
        {
         "dimensions": [
          {
           "label": "Objective Value",
           "range": [
            -803307.6798562867,
            -1068.6575355373927
           ],
           "values": [
            -3055.5110724410238,
            -464295.7117161951,
            -1570.8973879612731,
            -8393.4102176862,
            -36626.686113697375,
            -787850.7819055496,
            -5436.720822106277,
            -49863.02331334015,
            -34194.93126740507,
            -24712.751639783528,
            -22498.823252954593,
            -798521.0514337476,
            -124767.19693183858,
            -4232.406999611528,
            -6945.499957388337,
            -46612.017793259,
            -11175.768822615028,
            -31992.912667054934,
            -4833.0249027975915,
            -5766.6970118537365,
            -8663.703356049742,
            -50658.00665151904,
            -1856.5347133580237,
            -2210.5942103173434,
            -1843.9883353222306,
            -1172.9732335189303,
            -7980.909349630155,
            -6786.471835351047,
            -1826.4123641190436,
            -43355.6824335878,
            -28733.89736993933,
            -7695.80990646903,
            -787850.7819055496,
            -787850.7819055496,
            -2864.5898536194272,
            -14395.691542819084,
            -6056.363296177449,
            -8126.897367851344,
            -3502.1379728558877,
            -5179.644543188666,
            -165639.36473800874,
            -11604.256320481682,
            -8990.479745750868,
            -14663.184292397034,
            -790286.7271072752,
            -9834.71558434375,
            -3382.2270995503204,
            -4445.29818367992,
            -19419.156621893166,
            -34018.97601437809,
            -798684.3299552273,
            -7071.114749293562,
            -790244.2148959319,
            -5237.706857475399,
            -8360.824866358818,
            -24597.971243423686,
            -3448.839893677947,
            -2689.449605431381,
            -9633.761893211327,
            -14595.281487509814,
            -7060.882732281888,
            -787850.7819055496,
            -24746.915046333408,
            -33710.9616270239,
            -12188.383909625578,
            -4614.413075328935,
            -786175.0123204906,
            -35391.56199589835,
            -787850.7819055496,
            -9743.638720420291,
            -793362.9872670689,
            -3833.3805170657665,
            -5524.691991552428,
            -1636.9133064147863,
            -2246.1411053778343,
            -37510.19998094488,
            -2314.7012935738853,
            -10965.614068366876,
            -27420.21168519572,
            -16842.50393107925,
            -2063.281035482969,
            -18188.18833880969,
            -72135.23401943647,
            -3784.2223359330396,
            -30066.4680495206,
            -54564.147730192424,
            -90013.3929361292,
            -13089.14977347374,
            -16287.985197245756,
            -413315.88640820305,
            -2364.216741721449,
            -803307.6798562867,
            -4257.906751598631,
            -3169.5639643352283,
            -11014.26121499136,
            -29088.230307000496,
            -1068.6575355373927,
            -15126.177069285004,
            -10957.61644131101,
            -15867.45056816465
           ]
          },
          {
           "label": "colsample_bytree",
           "range": [
            0.017855609409461615,
            0.9929395489965106
           ],
           "values": [
            0.5526602840403889,
            0.43946113268829917,
            0.901738304247258,
            0.9682676652616686,
            0.6042909645740214,
            0.577636861541218,
            0.7194472267112751,
            0.15180592607950533,
            0.47241720351209743,
            0.510338981195072,
            0.07276616441414688,
            0.44033198352363734,
            0.5363542903391307,
            0.20752704184068582,
            0.7522868992199334,
            0.12333576680813661,
            0.10620423932435015,
            0.6832440967043346,
            0.10393575974746748,
            0.3794126938410536,
            0.9142602834954551,
            0.7060826016957076,
            0.9929395489965106,
            0.07068751509742502,
            0.37466195514355327,
            0.8037974387424509,
            0.7197641433321101,
            0.13385946378545596,
            0.8542021095083658,
            0.8845765089976498,
            0.9575981182883627,
            0.13313023009738284,
            0.9198170735681639,
            0.3027071392165402,
            0.3518264103835272,
            0.35402009374746646,
            0.7362281505840496,
            0.9111642134115339,
            0.05027183575012639,
            0.43944361142612753,
            0.9534829882512997,
            0.2691275222352251,
            0.23892000604104124,
            0.1629045359174314,
            0.9329232523501254,
            0.020245261905380504,
            0.8171130315069582,
            0.8556387879635792,
            0.4613510621718861,
            0.22443264952000047,
            0.7717291802827911,
            0.40160156307858097,
            0.06402299268029285,
            0.94601755615758,
            0.30048467412042756,
            0.13492688090495034,
            0.15556966129236444,
            0.2667978751479019,
            0.08832077949794791,
            0.9916226289851845,
            0.7408681482220552,
            0.16620020767732085,
            0.9209376305277593,
            0.9201723435497354,
            0.06486754816403113,
            0.6643955041656946,
            0.24072183591740184,
            0.017855609409461615,
            0.42413368607932683,
            0.9004476916179115,
            0.026915795672283235,
            0.47128304616041267,
            0.8941579804552061,
            0.7207705400738429,
            0.12327742557669245,
            0.18003844260381763,
            0.6261489111039802,
            0.6954505168192457,
            0.42352655050616145,
            0.8207849563025426,
            0.768943712929633,
            0.897091403173733,
            0.6562468588261408,
            0.4432873507301055,
            0.2754388100374603,
            0.2425566839789477,
            0.2647554416343912,
            0.2177601238786298,
            0.517709083760267,
            0.5867658274618907,
            0.3493648014715963,
            0.3049920449700719,
            0.8036703389705258,
            0.8445352952532269,
            0.4493557721465518,
            0.4621289451769865,
            0.9265136345415171,
            0.8760713580855367,
            0.19539107465133015,
            0.7272221701481221
           ]
          },
          {
           "label": "eta",
           "range": [
            0.012076288552851854,
            0.988670446953032
           ],
           "values": [
            0.31424354424651557,
            0.3257526567264982,
            0.7328730119980018,
            0.06656604486186313,
            0.10588884134119576,
            0.2195074614296784,
            0.5318832514527644,
            0.4213023466123674,
            0.8364465137597363,
            0.6146506014709537,
            0.9621757583435231,
            0.8597975262494916,
            0.34766658925452015,
            0.9267587590149483,
            0.42895667405515014,
            0.3581298532794785,
            0.7572020690137864,
            0.9294103202202406,
            0.20351300626750043,
            0.6571112571029912,
            0.03515692116914201,
            0.724055719561992,
            0.7091293782113413,
            0.8995844056951712,
            0.8690017365143161,
            0.3043252478490255,
            0.082181222203666,
            0.13050641780043964,
            0.2547017486648367,
            0.6734358984176703,
            0.33058207011722557,
            0.9443410854829827,
            0.05009783280440075,
            0.988670446953032,
            0.3003149837141573,
            0.20859384840788725,
            0.5433896709854438,
            0.3171660381027535,
            0.32119347171208446,
            0.9753868490972677,
            0.7435953662143064,
            0.788321251607439,
            0.5379622114884429,
            0.5786768296345316,
            0.31854611318868264,
            0.8637657228527341,
            0.6460752180545509,
            0.14150236432553184,
            0.22532814323747635,
            0.052801741011085916,
            0.13853607484689553,
            0.8933673239831528,
            0.1953168468903307,
            0.32917620982235246,
            0.042064389371879514,
            0.33379677427672716,
            0.46638043583500066,
            0.3279869086433084,
            0.5651473841343629,
            0.5729579926150812,
            0.33064432535030475,
            0.17187065386698475,
            0.7453612873694891,
            0.19069073760539923,
            0.9776933944980339,
            0.07862436606601964,
            0.11741114407450055,
            0.827534093675933,
            0.3280587164796042,
            0.7336213596589819,
            0.30424333020374056,
            0.3724665448187545,
            0.7817352783896492,
            0.29326888009240265,
            0.31505349092249646,
            0.7455710534288467,
            0.6802933162615918,
            0.022082482644555736,
            0.3703172584127822,
            0.8145641142307565,
            0.47788317946650644,
            0.012076288552851854,
            0.48547875367923254,
            0.3695465400817826,
            0.15989804512310396,
            0.32233164367687556,
            0.6675826123175612,
            0.8550572056609613,
            0.43065369206288107,
            0.36646303716768536,
            0.030108505833237154,
            0.3474687183046401,
            0.36383463184924514,
            0.052168669513889356,
            0.3035424724104449,
            0.41882412099899713,
            0.24971755273224722,
            0.42960097564462785,
            0.6150056249719773,
            0.6655714717830942
           ]
          },
          {
           "label": "max_depth",
           "range": [
            4,
            10
           ],
           "values": [
            10,
            6,
            5,
            6,
            5,
            5,
            7,
            8,
            9,
            4,
            7,
            8,
            8,
            10,
            5,
            8,
            9,
            5,
            10,
            6,
            5,
            8,
            5,
            9,
            7,
            7,
            9,
            5,
            8,
            6,
            8,
            6,
            7,
            10,
            4,
            9,
            4,
            4,
            4,
            10,
            4,
            8,
            7,
            6,
            10,
            9,
            5,
            9,
            4,
            10,
            8,
            10,
            5,
            7,
            5,
            10,
            6,
            6,
            5,
            7,
            6,
            10,
            10,
            8,
            7,
            5,
            6,
            6,
            5,
            9,
            6,
            10,
            7,
            6,
            9,
            8,
            4,
            8,
            7,
            6,
            4,
            4,
            10,
            4,
            4,
            9,
            4,
            4,
            8,
            10,
            10,
            10,
            7,
            10,
            4,
            7,
            6,
            5,
            10,
            7
           ]
          },
          {
           "label": "min_child_weight",
           "range": [
            1,
            50
           ],
           "values": [
            20,
            29,
            10,
            31,
            36,
            34,
            12,
            35,
            19,
            29,
            37,
            46,
            50,
            7,
            30,
            42,
            10,
            13,
            33,
            18,
            44,
            34,
            8,
            16,
            7,
            12,
            43,
            30,
            13,
            43,
            38,
            34,
            35,
            49,
            4,
            49,
            33,
            31,
            13,
            29,
            5,
            35,
            41,
            21,
            36,
            8,
            1,
            26,
            38,
            37,
            24,
            1,
            29,
            6,
            37,
            36,
            12,
            9,
            35,
            34,
            41,
            47,
            34,
            36,
            39,
            35,
            42,
            50,
            37,
            28,
            44,
            25,
            12,
            4,
            7,
            12,
            10,
            49,
            20,
            6,
            18,
            31,
            48,
            19,
            43,
            49,
            49,
            1,
            48,
            11,
            8,
            39,
            11,
            14,
            48,
            3,
            9,
            5,
            42,
            38
           ]
          },
          {
           "label": "n_estimators",
           "range": [
            116,
            1999
           ],
           "values": [
            1192,
            614,
            1904,
            759,
            865,
            815,
            853,
            310,
            1636,
            424,
            369,
            950,
            1811,
            1328,
            269,
            352,
            1388,
            530,
            410,
            1111,
            1609,
            1449,
            665,
            408,
            814,
            1999,
            177,
            731,
            1638,
            664,
            1263,
            1458,
            766,
            676,
            416,
            1946,
            286,
            194,
            949,
            1121,
            780,
            544,
            215,
            943,
            1538,
            116,
            1643,
            1995,
            844,
            142,
            385,
            1170,
            189,
            1598,
            351,
            1357,
            135,
            1546,
            372,
            1241,
            832,
            1781,
            160,
            565,
            1405,
            942,
            1172,
            578,
            1777,
            1821,
            1744,
            841,
            1187,
            929,
            350,
            1128,
            1134,
            1032,
            446,
            123,
            1259,
            298,
            1115,
            1420,
            264,
            185,
            1539,
            1299,
            625,
            1804,
            1823,
            1853,
            1192,
            1686,
            806,
            1943,
            1199,
            353,
            1247,
            287
           ]
          },
          {
           "label": "subsample",
           "range": [
            0.016922364825998775,
            0.9845340507174659
           ],
           "values": [
            0.9316476086308488,
            0.13744326104035492,
            0.939036534756173,
            0.5305302761861902,
            0.3655095826659147,
            0.025065982289372894,
            0.4438326005916791,
            0.32082601130231847,
            0.1568320544296997,
            0.3234093698225605,
            0.45577274326956635,
            0.24511618307496313,
            0.31158130170419457,
            0.664086352481903,
            0.5747478087876834,
            0.4171353255612301,
            0.1465986853494648,
            0.14119524290533975,
            0.8323962745160356,
            0.38805683992270434,
            0.8141617073343018,
            0.28623072020809776,
            0.7653095050356666,
            0.8879229671276101,
            0.3269437955091967,
            0.8045545831629747,
            0.8577466514363629,
            0.5589823737276812,
            0.5617931592591229,
            0.4060733524652394,
            0.3944922780027255,
            0.8276594204146026,
            0.01769689028579892,
            0.10659180160444343,
            0.519028105634851,
            0.7483612987529674,
            0.8998511503911619,
            0.5548744971550237,
            0.30232950919578333,
            0.9788546347043607,
            0.14231631125935137,
            0.5535457773247391,
            0.7736933619889279,
            0.24147422345611663,
            0.15132266706255335,
            0.1743646356403011,
            0.32174631142992804,
            0.7633925203044868,
            0.481066697057414,
            0.49083759554755313,
            0.049583087900974085,
            0.12561750861073218,
            0.0754214380056987,
            0.5123650491114317,
            0.7687002886997313,
            0.406721259991059,
            0.6365676947742431,
            0.23550308678986975,
            0.6079365635382967,
            0.5068172845204932,
            0.9845340507174659,
            0.016922364825998775,
            0.4033179725946459,
            0.3621885442045179,
            0.6946089152090064,
            0.8911839424833866,
            0.19748305957680093,
            0.5466314359568247,
            0.06477180868698279,
            0.5579841325998769,
            0.14948842341485158,
            0.7723670469679728,
            0.49058980051613926,
            0.7187762718125518,
            0.562542783398176,
            0.06802220491574715,
            0.5694431346075117,
            0.848950923075799,
            0.2059648466006365,
            0.19575500656135697,
            0.9450956267117778,
            0.8573518266893402,
            0.36894505577385184,
            0.49244643483299394,
            0.510187267077599,
            0.4966226304616828,
            0.34637998703454687,
            0.2812139845007951,
            0.6906317806633947,
            0.039031697207046204,
            0.27381839029322574,
            0.12398723893661416,
            0.8454535192282215,
            0.9719147403596928,
            0.8255742002065527,
            0.9358248986715904,
            0.6733410907481528,
            0.060712015472710615,
            0.7262705486964309,
            0.564452385921937
           ]
          },
          {
           "label": "tree_method",
           "range": [
            0,
            2
           ],
           "ticktext": [
            "approx",
            "hist",
            "auto"
           ],
           "tickvals": [
            0,
            1,
            2
           ],
           "values": [
            0,
            1,
            2,
            0,
            0,
            1,
            0,
            2,
            1,
            1,
            0,
            2,
            2,
            1,
            2,
            0,
            1,
            0,
            0,
            2,
            1,
            2,
            2,
            2,
            0,
            1,
            0,
            2,
            2,
            0,
            0,
            2,
            2,
            2,
            1,
            1,
            0,
            2,
            1,
            1,
            2,
            2,
            0,
            2,
            2,
            0,
            2,
            1,
            0,
            1,
            0,
            0,
            0,
            0,
            0,
            0,
            0,
            2,
            2,
            2,
            1,
            2,
            0,
            2,
            1,
            1,
            1,
            1,
            1,
            1,
            1,
            1,
            2,
            2,
            0,
            0,
            1,
            1,
            0,
            2,
            1,
            1,
            1,
            0,
            2,
            0,
            1,
            1,
            1,
            0,
            0,
            0,
            0,
            0,
            2,
            0,
            1,
            1,
            1,
            0
           ]
          }
         ],
         "labelangle": 30,
         "labelside": "bottom",
         "line": {
          "color": [
           -3055.5110724410238,
           -464295.7117161951,
           -1570.8973879612731,
           -8393.4102176862,
           -36626.686113697375,
           -787850.7819055496,
           -5436.720822106277,
           -49863.02331334015,
           -34194.93126740507,
           -24712.751639783528,
           -22498.823252954593,
           -798521.0514337476,
           -124767.19693183858,
           -4232.406999611528,
           -6945.499957388337,
           -46612.017793259,
           -11175.768822615028,
           -31992.912667054934,
           -4833.0249027975915,
           -5766.6970118537365,
           -8663.703356049742,
           -50658.00665151904,
           -1856.5347133580237,
           -2210.5942103173434,
           -1843.9883353222306,
           -1172.9732335189303,
           -7980.909349630155,
           -6786.471835351047,
           -1826.4123641190436,
           -43355.6824335878,
           -28733.89736993933,
           -7695.80990646903,
           -787850.7819055496,
           -787850.7819055496,
           -2864.5898536194272,
           -14395.691542819084,
           -6056.363296177449,
           -8126.897367851344,
           -3502.1379728558877,
           -5179.644543188666,
           -165639.36473800874,
           -11604.256320481682,
           -8990.479745750868,
           -14663.184292397034,
           -790286.7271072752,
           -9834.71558434375,
           -3382.2270995503204,
           -4445.29818367992,
           -19419.156621893166,
           -34018.97601437809,
           -798684.3299552273,
           -7071.114749293562,
           -790244.2148959319,
           -5237.706857475399,
           -8360.824866358818,
           -24597.971243423686,
           -3448.839893677947,
           -2689.449605431381,
           -9633.761893211327,
           -14595.281487509814,
           -7060.882732281888,
           -787850.7819055496,
           -24746.915046333408,
           -33710.9616270239,
           -12188.383909625578,
           -4614.413075328935,
           -786175.0123204906,
           -35391.56199589835,
           -787850.7819055496,
           -9743.638720420291,
           -793362.9872670689,
           -3833.3805170657665,
           -5524.691991552428,
           -1636.9133064147863,
           -2246.1411053778343,
           -37510.19998094488,
           -2314.7012935738853,
           -10965.614068366876,
           -27420.21168519572,
           -16842.50393107925,
           -2063.281035482969,
           -18188.18833880969,
           -72135.23401943647,
           -3784.2223359330396,
           -30066.4680495206,
           -54564.147730192424,
           -90013.3929361292,
           -13089.14977347374,
           -16287.985197245756,
           -413315.88640820305,
           -2364.216741721449,
           -803307.6798562867,
           -4257.906751598631,
           -3169.5639643352283,
           -11014.26121499136,
           -29088.230307000496,
           -1068.6575355373927,
           -15126.177069285004,
           -10957.61644131101,
           -15867.45056816465
          ],
          "colorbar": {
           "title": {
            "text": "Objective Value"
           }
          },
          "colorscale": [
           [
            0,
            "rgb(247,251,255)"
           ],
           [
            0.125,
            "rgb(222,235,247)"
           ],
           [
            0.25,
            "rgb(198,219,239)"
           ],
           [
            0.375,
            "rgb(158,202,225)"
           ],
           [
            0.5,
            "rgb(107,174,214)"
           ],
           [
            0.625,
            "rgb(66,146,198)"
           ],
           [
            0.75,
            "rgb(33,113,181)"
           ],
           [
            0.875,
            "rgb(8,81,156)"
           ],
           [
            1,
            "rgb(8,48,107)"
           ]
          ],
          "reversescale": true,
          "showscale": true
         },
         "type": "parcoords"
        }
       ],
       "layout": {
        "template": {
         "data": {
          "bar": [
           {
            "error_x": {
             "color": "#2a3f5f"
            },
            "error_y": {
             "color": "#2a3f5f"
            },
            "marker": {
             "line": {
              "color": "#E5ECF6",
              "width": 0.5
             },
             "pattern": {
              "fillmode": "overlay",
              "size": 10,
              "solidity": 0.2
             }
            },
            "type": "bar"
           }
          ],
          "barpolar": [
           {
            "marker": {
             "line": {
              "color": "#E5ECF6",
              "width": 0.5
             },
             "pattern": {
              "fillmode": "overlay",
              "size": 10,
              "solidity": 0.2
             }
            },
            "type": "barpolar"
           }
          ],
          "carpet": [
           {
            "aaxis": {
             "endlinecolor": "#2a3f5f",
             "gridcolor": "white",
             "linecolor": "white",
             "minorgridcolor": "white",
             "startlinecolor": "#2a3f5f"
            },
            "baxis": {
             "endlinecolor": "#2a3f5f",
             "gridcolor": "white",
             "linecolor": "white",
             "minorgridcolor": "white",
             "startlinecolor": "#2a3f5f"
            },
            "type": "carpet"
           }
          ],
          "choropleth": [
           {
            "colorbar": {
             "outlinewidth": 0,
             "ticks": ""
            },
            "type": "choropleth"
           }
          ],
          "contour": [
           {
            "colorbar": {
             "outlinewidth": 0,
             "ticks": ""
            },
            "colorscale": [
             [
              0,
              "#0d0887"
             ],
             [
              0.1111111111111111,
              "#46039f"
             ],
             [
              0.2222222222222222,
              "#7201a8"
             ],
             [
              0.3333333333333333,
              "#9c179e"
             ],
             [
              0.4444444444444444,
              "#bd3786"
             ],
             [
              0.5555555555555556,
              "#d8576b"
             ],
             [
              0.6666666666666666,
              "#ed7953"
             ],
             [
              0.7777777777777778,
              "#fb9f3a"
             ],
             [
              0.8888888888888888,
              "#fdca26"
             ],
             [
              1,
              "#f0f921"
             ]
            ],
            "type": "contour"
           }
          ],
          "contourcarpet": [
           {
            "colorbar": {
             "outlinewidth": 0,
             "ticks": ""
            },
            "type": "contourcarpet"
           }
          ],
          "heatmap": [
           {
            "colorbar": {
             "outlinewidth": 0,
             "ticks": ""
            },
            "colorscale": [
             [
              0,
              "#0d0887"
             ],
             [
              0.1111111111111111,
              "#46039f"
             ],
             [
              0.2222222222222222,
              "#7201a8"
             ],
             [
              0.3333333333333333,
              "#9c179e"
             ],
             [
              0.4444444444444444,
              "#bd3786"
             ],
             [
              0.5555555555555556,
              "#d8576b"
             ],
             [
              0.6666666666666666,
              "#ed7953"
             ],
             [
              0.7777777777777778,
              "#fb9f3a"
             ],
             [
              0.8888888888888888,
              "#fdca26"
             ],
             [
              1,
              "#f0f921"
             ]
            ],
            "type": "heatmap"
           }
          ],
          "heatmapgl": [
           {
            "colorbar": {
             "outlinewidth": 0,
             "ticks": ""
            },
            "colorscale": [
             [
              0,
              "#0d0887"
             ],
             [
              0.1111111111111111,
              "#46039f"
             ],
             [
              0.2222222222222222,
              "#7201a8"
             ],
             [
              0.3333333333333333,
              "#9c179e"
             ],
             [
              0.4444444444444444,
              "#bd3786"
             ],
             [
              0.5555555555555556,
              "#d8576b"
             ],
             [
              0.6666666666666666,
              "#ed7953"
             ],
             [
              0.7777777777777778,
              "#fb9f3a"
             ],
             [
              0.8888888888888888,
              "#fdca26"
             ],
             [
              1,
              "#f0f921"
             ]
            ],
            "type": "heatmapgl"
           }
          ],
          "histogram": [
           {
            "marker": {
             "pattern": {
              "fillmode": "overlay",
              "size": 10,
              "solidity": 0.2
             }
            },
            "type": "histogram"
           }
          ],
          "histogram2d": [
           {
            "colorbar": {
             "outlinewidth": 0,
             "ticks": ""
            },
            "colorscale": [
             [
              0,
              "#0d0887"
             ],
             [
              0.1111111111111111,
              "#46039f"
             ],
             [
              0.2222222222222222,
              "#7201a8"
             ],
             [
              0.3333333333333333,
              "#9c179e"
             ],
             [
              0.4444444444444444,
              "#bd3786"
             ],
             [
              0.5555555555555556,
              "#d8576b"
             ],
             [
              0.6666666666666666,
              "#ed7953"
             ],
             [
              0.7777777777777778,
              "#fb9f3a"
             ],
             [
              0.8888888888888888,
              "#fdca26"
             ],
             [
              1,
              "#f0f921"
             ]
            ],
            "type": "histogram2d"
           }
          ],
          "histogram2dcontour": [
           {
            "colorbar": {
             "outlinewidth": 0,
             "ticks": ""
            },
            "colorscale": [
             [
              0,
              "#0d0887"
             ],
             [
              0.1111111111111111,
              "#46039f"
             ],
             [
              0.2222222222222222,
              "#7201a8"
             ],
             [
              0.3333333333333333,
              "#9c179e"
             ],
             [
              0.4444444444444444,
              "#bd3786"
             ],
             [
              0.5555555555555556,
              "#d8576b"
             ],
             [
              0.6666666666666666,
              "#ed7953"
             ],
             [
              0.7777777777777778,
              "#fb9f3a"
             ],
             [
              0.8888888888888888,
              "#fdca26"
             ],
             [
              1,
              "#f0f921"
             ]
            ],
            "type": "histogram2dcontour"
           }
          ],
          "mesh3d": [
           {
            "colorbar": {
             "outlinewidth": 0,
             "ticks": ""
            },
            "type": "mesh3d"
           }
          ],
          "parcoords": [
           {
            "line": {
             "colorbar": {
              "outlinewidth": 0,
              "ticks": ""
             }
            },
            "type": "parcoords"
           }
          ],
          "pie": [
           {
            "automargin": true,
            "type": "pie"
           }
          ],
          "scatter": [
           {
            "fillpattern": {
             "fillmode": "overlay",
             "size": 10,
             "solidity": 0.2
            },
            "type": "scatter"
           }
          ],
          "scatter3d": [
           {
            "line": {
             "colorbar": {
              "outlinewidth": 0,
              "ticks": ""
             }
            },
            "marker": {
             "colorbar": {
              "outlinewidth": 0,
              "ticks": ""
             }
            },
            "type": "scatter3d"
           }
          ],
          "scattercarpet": [
           {
            "marker": {
             "colorbar": {
              "outlinewidth": 0,
              "ticks": ""
             }
            },
            "type": "scattercarpet"
           }
          ],
          "scattergeo": [
           {
            "marker": {
             "colorbar": {
              "outlinewidth": 0,
              "ticks": ""
             }
            },
            "type": "scattergeo"
           }
          ],
          "scattergl": [
           {
            "marker": {
             "colorbar": {
              "outlinewidth": 0,
              "ticks": ""
             }
            },
            "type": "scattergl"
           }
          ],
          "scattermapbox": [
           {
            "marker": {
             "colorbar": {
              "outlinewidth": 0,
              "ticks": ""
             }
            },
            "type": "scattermapbox"
           }
          ],
          "scatterpolar": [
           {
            "marker": {
             "colorbar": {
              "outlinewidth": 0,
              "ticks": ""
             }
            },
            "type": "scatterpolar"
           }
          ],
          "scatterpolargl": [
           {
            "marker": {
             "colorbar": {
              "outlinewidth": 0,
              "ticks": ""
             }
            },
            "type": "scatterpolargl"
           }
          ],
          "scatterternary": [
           {
            "marker": {
             "colorbar": {
              "outlinewidth": 0,
              "ticks": ""
             }
            },
            "type": "scatterternary"
           }
          ],
          "surface": [
           {
            "colorbar": {
             "outlinewidth": 0,
             "ticks": ""
            },
            "colorscale": [
             [
              0,
              "#0d0887"
             ],
             [
              0.1111111111111111,
              "#46039f"
             ],
             [
              0.2222222222222222,
              "#7201a8"
             ],
             [
              0.3333333333333333,
              "#9c179e"
             ],
             [
              0.4444444444444444,
              "#bd3786"
             ],
             [
              0.5555555555555556,
              "#d8576b"
             ],
             [
              0.6666666666666666,
              "#ed7953"
             ],
             [
              0.7777777777777778,
              "#fb9f3a"
             ],
             [
              0.8888888888888888,
              "#fdca26"
             ],
             [
              1,
              "#f0f921"
             ]
            ],
            "type": "surface"
           }
          ],
          "table": [
           {
            "cells": {
             "fill": {
              "color": "#EBF0F8"
             },
             "line": {
              "color": "white"
             }
            },
            "header": {
             "fill": {
              "color": "#C8D4E3"
             },
             "line": {
              "color": "white"
             }
            },
            "type": "table"
           }
          ]
         },
         "layout": {
          "annotationdefaults": {
           "arrowcolor": "#2a3f5f",
           "arrowhead": 0,
           "arrowwidth": 1
          },
          "autotypenumbers": "strict",
          "coloraxis": {
           "colorbar": {
            "outlinewidth": 0,
            "ticks": ""
           }
          },
          "colorscale": {
           "diverging": [
            [
             0,
             "#8e0152"
            ],
            [
             0.1,
             "#c51b7d"
            ],
            [
             0.2,
             "#de77ae"
            ],
            [
             0.3,
             "#f1b6da"
            ],
            [
             0.4,
             "#fde0ef"
            ],
            [
             0.5,
             "#f7f7f7"
            ],
            [
             0.6,
             "#e6f5d0"
            ],
            [
             0.7,
             "#b8e186"
            ],
            [
             0.8,
             "#7fbc41"
            ],
            [
             0.9,
             "#4d9221"
            ],
            [
             1,
             "#276419"
            ]
           ],
           "sequential": [
            [
             0,
             "#0d0887"
            ],
            [
             0.1111111111111111,
             "#46039f"
            ],
            [
             0.2222222222222222,
             "#7201a8"
            ],
            [
             0.3333333333333333,
             "#9c179e"
            ],
            [
             0.4444444444444444,
             "#bd3786"
            ],
            [
             0.5555555555555556,
             "#d8576b"
            ],
            [
             0.6666666666666666,
             "#ed7953"
            ],
            [
             0.7777777777777778,
             "#fb9f3a"
            ],
            [
             0.8888888888888888,
             "#fdca26"
            ],
            [
             1,
             "#f0f921"
            ]
           ],
           "sequentialminus": [
            [
             0,
             "#0d0887"
            ],
            [
             0.1111111111111111,
             "#46039f"
            ],
            [
             0.2222222222222222,
             "#7201a8"
            ],
            [
             0.3333333333333333,
             "#9c179e"
            ],
            [
             0.4444444444444444,
             "#bd3786"
            ],
            [
             0.5555555555555556,
             "#d8576b"
            ],
            [
             0.6666666666666666,
             "#ed7953"
            ],
            [
             0.7777777777777778,
             "#fb9f3a"
            ],
            [
             0.8888888888888888,
             "#fdca26"
            ],
            [
             1,
             "#f0f921"
            ]
           ]
          },
          "colorway": [
           "#636efa",
           "#EF553B",
           "#00cc96",
           "#ab63fa",
           "#FFA15A",
           "#19d3f3",
           "#FF6692",
           "#B6E880",
           "#FF97FF",
           "#FECB52"
          ],
          "font": {
           "color": "#2a3f5f"
          },
          "geo": {
           "bgcolor": "white",
           "lakecolor": "white",
           "landcolor": "#E5ECF6",
           "showlakes": true,
           "showland": true,
           "subunitcolor": "white"
          },
          "hoverlabel": {
           "align": "left"
          },
          "hovermode": "closest",
          "mapbox": {
           "style": "light"
          },
          "paper_bgcolor": "white",
          "plot_bgcolor": "#E5ECF6",
          "polar": {
           "angularaxis": {
            "gridcolor": "white",
            "linecolor": "white",
            "ticks": ""
           },
           "bgcolor": "#E5ECF6",
           "radialaxis": {
            "gridcolor": "white",
            "linecolor": "white",
            "ticks": ""
           }
          },
          "scene": {
           "xaxis": {
            "backgroundcolor": "#E5ECF6",
            "gridcolor": "white",
            "gridwidth": 2,
            "linecolor": "white",
            "showbackground": true,
            "ticks": "",
            "zerolinecolor": "white"
           },
           "yaxis": {
            "backgroundcolor": "#E5ECF6",
            "gridcolor": "white",
            "gridwidth": 2,
            "linecolor": "white",
            "showbackground": true,
            "ticks": "",
            "zerolinecolor": "white"
           },
           "zaxis": {
            "backgroundcolor": "#E5ECF6",
            "gridcolor": "white",
            "gridwidth": 2,
            "linecolor": "white",
            "showbackground": true,
            "ticks": "",
            "zerolinecolor": "white"
           }
          },
          "shapedefaults": {
           "line": {
            "color": "#2a3f5f"
           }
          },
          "ternary": {
           "aaxis": {
            "gridcolor": "white",
            "linecolor": "white",
            "ticks": ""
           },
           "baxis": {
            "gridcolor": "white",
            "linecolor": "white",
            "ticks": ""
           },
           "bgcolor": "#E5ECF6",
           "caxis": {
            "gridcolor": "white",
            "linecolor": "white",
            "ticks": ""
           }
          },
          "title": {
           "x": 0.05
          },
          "xaxis": {
           "automargin": true,
           "gridcolor": "white",
           "linecolor": "white",
           "ticks": "",
           "title": {
            "standoff": 15
           },
           "zerolinecolor": "white",
           "zerolinewidth": 2
          },
          "yaxis": {
           "automargin": true,
           "gridcolor": "white",
           "linecolor": "white",
           "ticks": "",
           "title": {
            "standoff": 15
           },
           "zerolinecolor": "white",
           "zerolinewidth": 2
          }
         }
        },
        "title": {
         "text": "Parallel Coordinate Plot"
        }
       }
      }
     },
     "metadata": {},
     "output_type": "display_data"
    }
   ],
   "source": [
    "optuna.visualization.plot_parallel_coordinate(study)"
   ]
  },
  {
   "cell_type": "code",
   "execution_count": 39,
   "metadata": {},
   "outputs": [],
   "source": [
    "best_params =study.best_params\n",
    "\n",
    "best_n_estimators = best_params['n_estimators']\n",
    "best_max_depth = best_params['max_depth']\n",
    "best_subsample = best_params['subsample']\n",
    "best_tree_method = best_params['tree_method']\n",
    "best_colsample_bytree = best_params['colsample_bytree']\n",
    "best_eta = best_params['eta']\n",
    "best_min_child_weight = best_params['min_child_weight']\n",
    "    \n",
    "best_model = xgb.XGBRegressor(n_estimators= best_n_estimators,\n",
    "                                  max_depth=best_max_depth,\n",
    "                                  min_samples_split=best_subsample,\n",
    "                                  tree_method = best_tree_method,\n",
    "                                  colsample_bytree = best_colsample_bytree,\n",
    "                                  eta = best_eta,\n",
    "                                  min_child_weight = best_min_child_weight\n",
    "                                  )"
   ]
  },
  {
   "cell_type": "code",
   "execution_count": 40,
   "metadata": {},
   "outputs": [
    {
     "name": "stderr",
     "output_type": "stream",
     "text": [
      "c:\\Python\\Python311\\Lib\\site-packages\\xgboost\\core.py:158: UserWarning:\n",
      "\n",
      "[14:03:01] WARNING: C:\\buildkite-agent\\builds\\buildkite-windows-cpu-autoscaling-group-i-06abd128ca6c1688d-1\\xgboost\\xgboost-ci-windows\\src\\learner.cc:740: \n",
      "Parameters: { \"min_samples_split\" } are not used.\n",
      "\n",
      "\n"
     ]
    },
    {
     "data": {
      "text/html": [
       "<style>#sk-container-id-4 {\n",
       "  /* Definition of color scheme common for light and dark mode */\n",
       "  --sklearn-color-text: black;\n",
       "  --sklearn-color-line: gray;\n",
       "  /* Definition of color scheme for unfitted estimators */\n",
       "  --sklearn-color-unfitted-level-0: #fff5e6;\n",
       "  --sklearn-color-unfitted-level-1: #f6e4d2;\n",
       "  --sklearn-color-unfitted-level-2: #ffe0b3;\n",
       "  --sklearn-color-unfitted-level-3: chocolate;\n",
       "  /* Definition of color scheme for fitted estimators */\n",
       "  --sklearn-color-fitted-level-0: #f0f8ff;\n",
       "  --sklearn-color-fitted-level-1: #d4ebff;\n",
       "  --sklearn-color-fitted-level-2: #b3dbfd;\n",
       "  --sklearn-color-fitted-level-3: cornflowerblue;\n",
       "\n",
       "  /* Specific color for light theme */\n",
       "  --sklearn-color-text-on-default-background: var(--sg-text-color, var(--theme-code-foreground, var(--jp-content-font-color1, black)));\n",
       "  --sklearn-color-background: var(--sg-background-color, var(--theme-background, var(--jp-layout-color0, white)));\n",
       "  --sklearn-color-border-box: var(--sg-text-color, var(--theme-code-foreground, var(--jp-content-font-color1, black)));\n",
       "  --sklearn-color-icon: #696969;\n",
       "\n",
       "  @media (prefers-color-scheme: dark) {\n",
       "    /* Redefinition of color scheme for dark theme */\n",
       "    --sklearn-color-text-on-default-background: var(--sg-text-color, var(--theme-code-foreground, var(--jp-content-font-color1, white)));\n",
       "    --sklearn-color-background: var(--sg-background-color, var(--theme-background, var(--jp-layout-color0, #111)));\n",
       "    --sklearn-color-border-box: var(--sg-text-color, var(--theme-code-foreground, var(--jp-content-font-color1, white)));\n",
       "    --sklearn-color-icon: #878787;\n",
       "  }\n",
       "}\n",
       "\n",
       "#sk-container-id-4 {\n",
       "  color: var(--sklearn-color-text);\n",
       "}\n",
       "\n",
       "#sk-container-id-4 pre {\n",
       "  padding: 0;\n",
       "}\n",
       "\n",
       "#sk-container-id-4 input.sk-hidden--visually {\n",
       "  border: 0;\n",
       "  clip: rect(1px 1px 1px 1px);\n",
       "  clip: rect(1px, 1px, 1px, 1px);\n",
       "  height: 1px;\n",
       "  margin: -1px;\n",
       "  overflow: hidden;\n",
       "  padding: 0;\n",
       "  position: absolute;\n",
       "  width: 1px;\n",
       "}\n",
       "\n",
       "#sk-container-id-4 div.sk-dashed-wrapped {\n",
       "  border: 1px dashed var(--sklearn-color-line);\n",
       "  margin: 0 0.4em 0.5em 0.4em;\n",
       "  box-sizing: border-box;\n",
       "  padding-bottom: 0.4em;\n",
       "  background-color: var(--sklearn-color-background);\n",
       "}\n",
       "\n",
       "#sk-container-id-4 div.sk-container {\n",
       "  /* jupyter's `normalize.less` sets `[hidden] { display: none; }`\n",
       "     but bootstrap.min.css set `[hidden] { display: none !important; }`\n",
       "     so we also need the `!important` here to be able to override the\n",
       "     default hidden behavior on the sphinx rendered scikit-learn.org.\n",
       "     See: https://github.com/scikit-learn/scikit-learn/issues/21755 */\n",
       "  display: inline-block !important;\n",
       "  position: relative;\n",
       "}\n",
       "\n",
       "#sk-container-id-4 div.sk-text-repr-fallback {\n",
       "  display: none;\n",
       "}\n",
       "\n",
       "div.sk-parallel-item,\n",
       "div.sk-serial,\n",
       "div.sk-item {\n",
       "  /* draw centered vertical line to link estimators */\n",
       "  background-image: linear-gradient(var(--sklearn-color-text-on-default-background), var(--sklearn-color-text-on-default-background));\n",
       "  background-size: 2px 100%;\n",
       "  background-repeat: no-repeat;\n",
       "  background-position: center center;\n",
       "}\n",
       "\n",
       "/* Parallel-specific style estimator block */\n",
       "\n",
       "#sk-container-id-4 div.sk-parallel-item::after {\n",
       "  content: \"\";\n",
       "  width: 100%;\n",
       "  border-bottom: 2px solid var(--sklearn-color-text-on-default-background);\n",
       "  flex-grow: 1;\n",
       "}\n",
       "\n",
       "#sk-container-id-4 div.sk-parallel {\n",
       "  display: flex;\n",
       "  align-items: stretch;\n",
       "  justify-content: center;\n",
       "  background-color: var(--sklearn-color-background);\n",
       "  position: relative;\n",
       "}\n",
       "\n",
       "#sk-container-id-4 div.sk-parallel-item {\n",
       "  display: flex;\n",
       "  flex-direction: column;\n",
       "}\n",
       "\n",
       "#sk-container-id-4 div.sk-parallel-item:first-child::after {\n",
       "  align-self: flex-end;\n",
       "  width: 50%;\n",
       "}\n",
       "\n",
       "#sk-container-id-4 div.sk-parallel-item:last-child::after {\n",
       "  align-self: flex-start;\n",
       "  width: 50%;\n",
       "}\n",
       "\n",
       "#sk-container-id-4 div.sk-parallel-item:only-child::after {\n",
       "  width: 0;\n",
       "}\n",
       "\n",
       "/* Serial-specific style estimator block */\n",
       "\n",
       "#sk-container-id-4 div.sk-serial {\n",
       "  display: flex;\n",
       "  flex-direction: column;\n",
       "  align-items: center;\n",
       "  background-color: var(--sklearn-color-background);\n",
       "  padding-right: 1em;\n",
       "  padding-left: 1em;\n",
       "}\n",
       "\n",
       "\n",
       "/* Toggleable style: style used for estimator/Pipeline/ColumnTransformer box that is\n",
       "clickable and can be expanded/collapsed.\n",
       "- Pipeline and ColumnTransformer use this feature and define the default style\n",
       "- Estimators will overwrite some part of the style using the `sk-estimator` class\n",
       "*/\n",
       "\n",
       "/* Pipeline and ColumnTransformer style (default) */\n",
       "\n",
       "#sk-container-id-4 div.sk-toggleable {\n",
       "  /* Default theme specific background. It is overwritten whether we have a\n",
       "  specific estimator or a Pipeline/ColumnTransformer */\n",
       "  background-color: var(--sklearn-color-background);\n",
       "}\n",
       "\n",
       "/* Toggleable label */\n",
       "#sk-container-id-4 label.sk-toggleable__label {\n",
       "  cursor: pointer;\n",
       "  display: block;\n",
       "  width: 100%;\n",
       "  margin-bottom: 0;\n",
       "  padding: 0.5em;\n",
       "  box-sizing: border-box;\n",
       "  text-align: center;\n",
       "}\n",
       "\n",
       "#sk-container-id-4 label.sk-toggleable__label-arrow:before {\n",
       "  /* Arrow on the left of the label */\n",
       "  content: \"▸\";\n",
       "  float: left;\n",
       "  margin-right: 0.25em;\n",
       "  color: var(--sklearn-color-icon);\n",
       "}\n",
       "\n",
       "#sk-container-id-4 label.sk-toggleable__label-arrow:hover:before {\n",
       "  color: var(--sklearn-color-text);\n",
       "}\n",
       "\n",
       "/* Toggleable content - dropdown */\n",
       "\n",
       "#sk-container-id-4 div.sk-toggleable__content {\n",
       "  max-height: 0;\n",
       "  max-width: 0;\n",
       "  overflow: hidden;\n",
       "  text-align: left;\n",
       "  /* unfitted */\n",
       "  background-color: var(--sklearn-color-unfitted-level-0);\n",
       "}\n",
       "\n",
       "#sk-container-id-4 div.sk-toggleable__content.fitted {\n",
       "  /* fitted */\n",
       "  background-color: var(--sklearn-color-fitted-level-0);\n",
       "}\n",
       "\n",
       "#sk-container-id-4 div.sk-toggleable__content pre {\n",
       "  margin: 0.2em;\n",
       "  border-radius: 0.25em;\n",
       "  color: var(--sklearn-color-text);\n",
       "  /* unfitted */\n",
       "  background-color: var(--sklearn-color-unfitted-level-0);\n",
       "}\n",
       "\n",
       "#sk-container-id-4 div.sk-toggleable__content.fitted pre {\n",
       "  /* unfitted */\n",
       "  background-color: var(--sklearn-color-fitted-level-0);\n",
       "}\n",
       "\n",
       "#sk-container-id-4 input.sk-toggleable__control:checked~div.sk-toggleable__content {\n",
       "  /* Expand drop-down */\n",
       "  max-height: 200px;\n",
       "  max-width: 100%;\n",
       "  overflow: auto;\n",
       "}\n",
       "\n",
       "#sk-container-id-4 input.sk-toggleable__control:checked~label.sk-toggleable__label-arrow:before {\n",
       "  content: \"▾\";\n",
       "}\n",
       "\n",
       "/* Pipeline/ColumnTransformer-specific style */\n",
       "\n",
       "#sk-container-id-4 div.sk-label input.sk-toggleable__control:checked~label.sk-toggleable__label {\n",
       "  color: var(--sklearn-color-text);\n",
       "  background-color: var(--sklearn-color-unfitted-level-2);\n",
       "}\n",
       "\n",
       "#sk-container-id-4 div.sk-label.fitted input.sk-toggleable__control:checked~label.sk-toggleable__label {\n",
       "  background-color: var(--sklearn-color-fitted-level-2);\n",
       "}\n",
       "\n",
       "/* Estimator-specific style */\n",
       "\n",
       "/* Colorize estimator box */\n",
       "#sk-container-id-4 div.sk-estimator input.sk-toggleable__control:checked~label.sk-toggleable__label {\n",
       "  /* unfitted */\n",
       "  background-color: var(--sklearn-color-unfitted-level-2);\n",
       "}\n",
       "\n",
       "#sk-container-id-4 div.sk-estimator.fitted input.sk-toggleable__control:checked~label.sk-toggleable__label {\n",
       "  /* fitted */\n",
       "  background-color: var(--sklearn-color-fitted-level-2);\n",
       "}\n",
       "\n",
       "#sk-container-id-4 div.sk-label label.sk-toggleable__label,\n",
       "#sk-container-id-4 div.sk-label label {\n",
       "  /* The background is the default theme color */\n",
       "  color: var(--sklearn-color-text-on-default-background);\n",
       "}\n",
       "\n",
       "/* On hover, darken the color of the background */\n",
       "#sk-container-id-4 div.sk-label:hover label.sk-toggleable__label {\n",
       "  color: var(--sklearn-color-text);\n",
       "  background-color: var(--sklearn-color-unfitted-level-2);\n",
       "}\n",
       "\n",
       "/* Label box, darken color on hover, fitted */\n",
       "#sk-container-id-4 div.sk-label.fitted:hover label.sk-toggleable__label.fitted {\n",
       "  color: var(--sklearn-color-text);\n",
       "  background-color: var(--sklearn-color-fitted-level-2);\n",
       "}\n",
       "\n",
       "/* Estimator label */\n",
       "\n",
       "#sk-container-id-4 div.sk-label label {\n",
       "  font-family: monospace;\n",
       "  font-weight: bold;\n",
       "  display: inline-block;\n",
       "  line-height: 1.2em;\n",
       "}\n",
       "\n",
       "#sk-container-id-4 div.sk-label-container {\n",
       "  text-align: center;\n",
       "}\n",
       "\n",
       "/* Estimator-specific */\n",
       "#sk-container-id-4 div.sk-estimator {\n",
       "  font-family: monospace;\n",
       "  border: 1px dotted var(--sklearn-color-border-box);\n",
       "  border-radius: 0.25em;\n",
       "  box-sizing: border-box;\n",
       "  margin-bottom: 0.5em;\n",
       "  /* unfitted */\n",
       "  background-color: var(--sklearn-color-unfitted-level-0);\n",
       "}\n",
       "\n",
       "#sk-container-id-4 div.sk-estimator.fitted {\n",
       "  /* fitted */\n",
       "  background-color: var(--sklearn-color-fitted-level-0);\n",
       "}\n",
       "\n",
       "/* on hover */\n",
       "#sk-container-id-4 div.sk-estimator:hover {\n",
       "  /* unfitted */\n",
       "  background-color: var(--sklearn-color-unfitted-level-2);\n",
       "}\n",
       "\n",
       "#sk-container-id-4 div.sk-estimator.fitted:hover {\n",
       "  /* fitted */\n",
       "  background-color: var(--sklearn-color-fitted-level-2);\n",
       "}\n",
       "\n",
       "/* Specification for estimator info (e.g. \"i\" and \"?\") */\n",
       "\n",
       "/* Common style for \"i\" and \"?\" */\n",
       "\n",
       ".sk-estimator-doc-link,\n",
       "a:link.sk-estimator-doc-link,\n",
       "a:visited.sk-estimator-doc-link {\n",
       "  float: right;\n",
       "  font-size: smaller;\n",
       "  line-height: 1em;\n",
       "  font-family: monospace;\n",
       "  background-color: var(--sklearn-color-background);\n",
       "  border-radius: 1em;\n",
       "  height: 1em;\n",
       "  width: 1em;\n",
       "  text-decoration: none !important;\n",
       "  margin-left: 1ex;\n",
       "  /* unfitted */\n",
       "  border: var(--sklearn-color-unfitted-level-1) 1pt solid;\n",
       "  color: var(--sklearn-color-unfitted-level-1);\n",
       "}\n",
       "\n",
       ".sk-estimator-doc-link.fitted,\n",
       "a:link.sk-estimator-doc-link.fitted,\n",
       "a:visited.sk-estimator-doc-link.fitted {\n",
       "  /* fitted */\n",
       "  border: var(--sklearn-color-fitted-level-1) 1pt solid;\n",
       "  color: var(--sklearn-color-fitted-level-1);\n",
       "}\n",
       "\n",
       "/* On hover */\n",
       "div.sk-estimator:hover .sk-estimator-doc-link:hover,\n",
       ".sk-estimator-doc-link:hover,\n",
       "div.sk-label-container:hover .sk-estimator-doc-link:hover,\n",
       ".sk-estimator-doc-link:hover {\n",
       "  /* unfitted */\n",
       "  background-color: var(--sklearn-color-unfitted-level-3);\n",
       "  color: var(--sklearn-color-background);\n",
       "  text-decoration: none;\n",
       "}\n",
       "\n",
       "div.sk-estimator.fitted:hover .sk-estimator-doc-link.fitted:hover,\n",
       ".sk-estimator-doc-link.fitted:hover,\n",
       "div.sk-label-container:hover .sk-estimator-doc-link.fitted:hover,\n",
       ".sk-estimator-doc-link.fitted:hover {\n",
       "  /* fitted */\n",
       "  background-color: var(--sklearn-color-fitted-level-3);\n",
       "  color: var(--sklearn-color-background);\n",
       "  text-decoration: none;\n",
       "}\n",
       "\n",
       "/* Span, style for the box shown on hovering the info icon */\n",
       ".sk-estimator-doc-link span {\n",
       "  display: none;\n",
       "  z-index: 9999;\n",
       "  position: relative;\n",
       "  font-weight: normal;\n",
       "  right: .2ex;\n",
       "  padding: .5ex;\n",
       "  margin: .5ex;\n",
       "  width: min-content;\n",
       "  min-width: 20ex;\n",
       "  max-width: 50ex;\n",
       "  color: var(--sklearn-color-text);\n",
       "  box-shadow: 2pt 2pt 4pt #999;\n",
       "  /* unfitted */\n",
       "  background: var(--sklearn-color-unfitted-level-0);\n",
       "  border: .5pt solid var(--sklearn-color-unfitted-level-3);\n",
       "}\n",
       "\n",
       ".sk-estimator-doc-link.fitted span {\n",
       "  /* fitted */\n",
       "  background: var(--sklearn-color-fitted-level-0);\n",
       "  border: var(--sklearn-color-fitted-level-3);\n",
       "}\n",
       "\n",
       ".sk-estimator-doc-link:hover span {\n",
       "  display: block;\n",
       "}\n",
       "\n",
       "/* \"?\"-specific style due to the `<a>` HTML tag */\n",
       "\n",
       "#sk-container-id-4 a.estimator_doc_link {\n",
       "  float: right;\n",
       "  font-size: 1rem;\n",
       "  line-height: 1em;\n",
       "  font-family: monospace;\n",
       "  background-color: var(--sklearn-color-background);\n",
       "  border-radius: 1rem;\n",
       "  height: 1rem;\n",
       "  width: 1rem;\n",
       "  text-decoration: none;\n",
       "  /* unfitted */\n",
       "  color: var(--sklearn-color-unfitted-level-1);\n",
       "  border: var(--sklearn-color-unfitted-level-1) 1pt solid;\n",
       "}\n",
       "\n",
       "#sk-container-id-4 a.estimator_doc_link.fitted {\n",
       "  /* fitted */\n",
       "  border: var(--sklearn-color-fitted-level-1) 1pt solid;\n",
       "  color: var(--sklearn-color-fitted-level-1);\n",
       "}\n",
       "\n",
       "/* On hover */\n",
       "#sk-container-id-4 a.estimator_doc_link:hover {\n",
       "  /* unfitted */\n",
       "  background-color: var(--sklearn-color-unfitted-level-3);\n",
       "  color: var(--sklearn-color-background);\n",
       "  text-decoration: none;\n",
       "}\n",
       "\n",
       "#sk-container-id-4 a.estimator_doc_link.fitted:hover {\n",
       "  /* fitted */\n",
       "  background-color: var(--sklearn-color-fitted-level-3);\n",
       "}\n",
       "</style><div id=\"sk-container-id-4\" class=\"sk-top-container\"><div class=\"sk-text-repr-fallback\"><pre>XGBRegressor(base_score=None, booster=None, callbacks=None,\n",
       "             colsample_bylevel=None, colsample_bynode=None,\n",
       "             colsample_bytree=0.3049920449700719, device=None,\n",
       "             early_stopping_rounds=None, enable_categorical=False,\n",
       "             eta=0.3474687183046401, eval_metric=None, feature_types=None,\n",
       "             gamma=None, grow_policy=None, importance_type=None,\n",
       "             interaction_constraints=None, learning_rate=None, max_bin=None,\n",
       "             max_cat_threshold=None, max_cat_to_onehot=None,\n",
       "             max_delta_step=None, max_depth=10, max_leaves=None,\n",
       "             min_child_weight=39, min_samples_split=0.12398723893661416,\n",
       "             missing=nan, monotone_constraints=None, multi_strategy=None,\n",
       "             n_estimators=1853, n_jobs=None, ...)</pre><b>In a Jupyter environment, please rerun this cell to show the HTML representation or trust the notebook. <br />On GitHub, the HTML representation is unable to render, please try loading this page with nbviewer.org.</b></div><div class=\"sk-container\" hidden><div class=\"sk-item\"><div class=\"sk-estimator fitted sk-toggleable\"><input class=\"sk-toggleable__control sk-hidden--visually\" id=\"sk-estimator-id-4\" type=\"checkbox\" checked><label for=\"sk-estimator-id-4\" class=\"sk-toggleable__label fitted sk-toggleable__label-arrow fitted\">&nbsp;XGBRegressor<span class=\"sk-estimator-doc-link fitted\">i<span>Fitted</span></span></label><div class=\"sk-toggleable__content fitted\"><pre>XGBRegressor(base_score=None, booster=None, callbacks=None,\n",
       "             colsample_bylevel=None, colsample_bynode=None,\n",
       "             colsample_bytree=0.3049920449700719, device=None,\n",
       "             early_stopping_rounds=None, enable_categorical=False,\n",
       "             eta=0.3474687183046401, eval_metric=None, feature_types=None,\n",
       "             gamma=None, grow_policy=None, importance_type=None,\n",
       "             interaction_constraints=None, learning_rate=None, max_bin=None,\n",
       "             max_cat_threshold=None, max_cat_to_onehot=None,\n",
       "             max_delta_step=None, max_depth=10, max_leaves=None,\n",
       "             min_child_weight=39, min_samples_split=0.12398723893661416,\n",
       "             missing=nan, monotone_constraints=None, multi_strategy=None,\n",
       "             n_estimators=1853, n_jobs=None, ...)</pre></div> </div></div></div></div>"
      ],
      "text/plain": [
       "XGBRegressor(base_score=None, booster=None, callbacks=None,\n",
       "             colsample_bylevel=None, colsample_bynode=None,\n",
       "             colsample_bytree=0.3049920449700719, device=None,\n",
       "             early_stopping_rounds=None, enable_categorical=False,\n",
       "             eta=0.3474687183046401, eval_metric=None, feature_types=None,\n",
       "             gamma=None, grow_policy=None, importance_type=None,\n",
       "             interaction_constraints=None, learning_rate=None, max_bin=None,\n",
       "             max_cat_threshold=None, max_cat_to_onehot=None,\n",
       "             max_delta_step=None, max_depth=10, max_leaves=None,\n",
       "             min_child_weight=39, min_samples_split=0.12398723893661416,\n",
       "             missing=nan, monotone_constraints=None, multi_strategy=None,\n",
       "             n_estimators=1853, n_jobs=None, ...)"
      ]
     },
     "execution_count": 40,
     "metadata": {},
     "output_type": "execute_result"
    }
   ],
   "source": [
    "best_model.fit(X_train,y_train)"
   ]
  },
  {
   "cell_type": "code",
   "execution_count": 41,
   "metadata": {},
   "outputs": [],
   "source": [
    "y_hat = best_model.predict(X_test)"
   ]
  },
  {
   "cell_type": "code",
   "execution_count": 42,
   "metadata": {},
   "outputs": [
    {
     "data": {
      "text/plain": [
       "3716.1324695728517"
      ]
     },
     "execution_count": 42,
     "metadata": {},
     "output_type": "execute_result"
    }
   ],
   "source": [
    "mean_squared_error(y_test, y_hat)"
   ]
  },
  {
   "cell_type": "code",
   "execution_count": 43,
   "metadata": {},
   "outputs": [
    {
     "data": {
      "text/plain": [
       "8.680115232780853"
      ]
     },
     "execution_count": 43,
     "metadata": {},
     "output_type": "execute_result"
    }
   ],
   "source": [
    "mean_absolute_percentage_error(y_test, y_hat)*100"
   ]
  },
  {
   "cell_type": "code",
   "execution_count": 50,
   "metadata": {},
   "outputs": [],
   "source": [
    "X_scaler = StandardScaler()\n",
    "X_scaled = X_scaler.fit_transform(X)\n",
    "y_scaler = StandardScaler()\n",
    "y_scaled = y_scaler.fit_transform(y.values.reshape(-1,1))"
   ]
  },
  {
   "cell_type": "code",
   "execution_count": 51,
   "metadata": {},
   "outputs": [],
   "source": [
    "X_train_scaled, X_test_scaled, y_train_scaled, y_test_scaled = train_test_split(X_scaled, y_scaled, test_size = 0.15, random_state = 2)"
   ]
  },
  {
   "cell_type": "code",
   "execution_count": 52,
   "metadata": {},
   "outputs": [
    {
     "name": "stderr",
     "output_type": "stream",
     "text": [
      "[I 2024-07-12 14:27:59,527] A new study created in memory with name: no-name-f8637542-6f37-4919-8bd6-e924bd35daa9\n"
     ]
    }
   ],
   "source": [
    "\n",
    "\n",
    "study = optuna.create_study(direction='minimize', sampler= optuna.samplers.RandomSampler())"
   ]
  },
  {
   "cell_type": "code",
   "execution_count": 53,
   "metadata": {},
   "outputs": [
    {
     "name": "stderr",
     "output_type": "stream",
     "text": [
      "[I 2024-07-12 14:28:07,970] Trial 0 finished with value: -2087.445558102233 and parameters: {'first_hidden_layer': 128, 'second_hidden_layer': 16, 'alpha': 0.006051402598993809}. Best is trial 0 with value: -2087.445558102233.\n",
      "[I 2024-07-12 14:28:09,467] Trial 1 finished with value: -6633.191672410191 and parameters: {'first_hidden_layer': 4, 'second_hidden_layer': 64, 'alpha': 0.003331629330688833}. Best is trial 1 with value: -6633.191672410191.\n",
      "c:\\Python\\Python311\\Lib\\site-packages\\sklearn\\neural_network\\_multilayer_perceptron.py:690: ConvergenceWarning:\n",
      "\n",
      "Stochastic Optimizer: Maximum iterations (500) reached and the optimization hasn't converged yet.\n",
      "\n",
      "[I 2024-07-12 14:28:10,548] Trial 2 finished with value: -575487.7696493791 and parameters: {'first_hidden_layer': 2, 'second_hidden_layer': 4, 'alpha': 0.00834341932513804}. Best is trial 2 with value: -575487.7696493791.\n",
      "[I 2024-07-12 14:28:11,692] Trial 3 finished with value: -1946.8765598918555 and parameters: {'first_hidden_layer': 128, 'second_hidden_layer': 32, 'alpha': 0.0016198830360719247}. Best is trial 2 with value: -575487.7696493791.\n",
      "[I 2024-07-12 14:28:13,200] Trial 4 finished with value: -3170.9799740960902 and parameters: {'first_hidden_layer': 4, 'second_hidden_layer': 4, 'alpha': 0.005436460329869437}. Best is trial 2 with value: -575487.7696493791.\n",
      "c:\\Python\\Python311\\Lib\\site-packages\\sklearn\\neural_network\\_multilayer_perceptron.py:690: ConvergenceWarning:\n",
      "\n",
      "Stochastic Optimizer: Maximum iterations (500) reached and the optimization hasn't converged yet.\n",
      "\n",
      "[I 2024-07-12 14:28:14,570] Trial 5 finished with value: -8323.648752130548 and parameters: {'first_hidden_layer': 4, 'second_hidden_layer': 8, 'alpha': 0.001242789199862469}. Best is trial 2 with value: -575487.7696493791.\n",
      "[I 2024-07-12 14:28:15,133] Trial 6 finished with value: -12540.117240455918 and parameters: {'first_hidden_layer': 128, 'second_hidden_layer': 2, 'alpha': 0.003463705389406462}. Best is trial 2 with value: -575487.7696493791.\n",
      "[I 2024-07-12 14:28:15,778] Trial 7 finished with value: -2376.762461183146 and parameters: {'first_hidden_layer': 16, 'second_hidden_layer': 32, 'alpha': 0.004650328980405494}. Best is trial 2 with value: -575487.7696493791.\n",
      "[I 2024-07-12 14:28:16,415] Trial 8 finished with value: -12458.553886445085 and parameters: {'first_hidden_layer': 128, 'second_hidden_layer': 4, 'alpha': 0.003956746935514523}. Best is trial 2 with value: -575487.7696493791.\n",
      "[I 2024-07-12 14:28:17,389] Trial 9 finished with value: -2693.650994096583 and parameters: {'first_hidden_layer': 8, 'second_hidden_layer': 8, 'alpha': 0.004340402312092}. Best is trial 2 with value: -575487.7696493791.\n",
      "[I 2024-07-12 14:28:18,085] Trial 10 finished with value: -7800.547437522095 and parameters: {'first_hidden_layer': 32, 'second_hidden_layer': 8, 'alpha': 0.007917699897619588}. Best is trial 2 with value: -575487.7696493791.\n",
      "[I 2024-07-12 14:28:19,867] Trial 11 finished with value: -1978.7486412762664 and parameters: {'first_hidden_layer': 16, 'second_hidden_layer': 128, 'alpha': 0.004000892054670908}. Best is trial 2 with value: -575487.7696493791.\n",
      "[I 2024-07-12 14:28:20,635] Trial 12 finished with value: -5506.231557508185 and parameters: {'first_hidden_layer': 32, 'second_hidden_layer': 4, 'alpha': 0.009627824320580198}. Best is trial 2 with value: -575487.7696493791.\n",
      "[I 2024-07-12 14:28:22,152] Trial 13 finished with value: -2086.4518841712265 and parameters: {'first_hidden_layer': 2, 'second_hidden_layer': 64, 'alpha': 0.0018771158103860724}. Best is trial 2 with value: -575487.7696493791.\n",
      "c:\\Python\\Python311\\Lib\\site-packages\\sklearn\\neural_network\\_multilayer_perceptron.py:690: ConvergenceWarning:\n",
      "\n",
      "Stochastic Optimizer: Maximum iterations (500) reached and the optimization hasn't converged yet.\n",
      "\n",
      "[I 2024-07-12 14:28:23,048] Trial 14 finished with value: -1629498.0028913624 and parameters: {'first_hidden_layer': 2, 'second_hidden_layer': 4, 'alpha': 0.004371600787289873}. Best is trial 14 with value: -1629498.0028913624.\n",
      "c:\\Python\\Python311\\Lib\\site-packages\\sklearn\\neural_network\\_multilayer_perceptron.py:690: ConvergenceWarning:\n",
      "\n",
      "Stochastic Optimizer: Maximum iterations (500) reached and the optimization hasn't converged yet.\n",
      "\n",
      "[I 2024-07-12 14:28:25,501] Trial 15 finished with value: -585359.4972787673 and parameters: {'first_hidden_layer': 2, 'second_hidden_layer': 128, 'alpha': 0.0042077505523779165}. Best is trial 14 with value: -1629498.0028913624.\n",
      "[I 2024-07-12 14:28:26,086] Trial 16 finished with value: -1157012.4773303801 and parameters: {'first_hidden_layer': 2, 'second_hidden_layer': 4, 'alpha': 0.00939697744501775}. Best is trial 14 with value: -1629498.0028913624.\n",
      "c:\\Python\\Python311\\Lib\\site-packages\\sklearn\\neural_network\\_multilayer_perceptron.py:690: ConvergenceWarning:\n",
      "\n",
      "Stochastic Optimizer: Maximum iterations (500) reached and the optimization hasn't converged yet.\n",
      "\n",
      "[I 2024-07-12 14:28:26,628] Trial 17 finished with value: -1150411.4820437878 and parameters: {'first_hidden_layer': 2, 'second_hidden_layer': 2, 'alpha': 0.0020240037238750657}. Best is trial 14 with value: -1629498.0028913624.\n",
      "c:\\Python\\Python311\\Lib\\site-packages\\sklearn\\neural_network\\_multilayer_perceptron.py:690: ConvergenceWarning:\n",
      "\n",
      "Stochastic Optimizer: Maximum iterations (500) reached and the optimization hasn't converged yet.\n",
      "\n",
      "[I 2024-07-12 14:28:27,643] Trial 18 finished with value: -7369.167265664229 and parameters: {'first_hidden_layer': 8, 'second_hidden_layer': 8, 'alpha': 0.00452780592529977}. Best is trial 14 with value: -1629498.0028913624.\n",
      "[I 2024-07-12 14:28:28,551] Trial 19 finished with value: -12567.066314127047 and parameters: {'first_hidden_layer': 32, 'second_hidden_layer': 2, 'alpha': 0.00607783544873649}. Best is trial 14 with value: -1629498.0028913624.\n",
      "[I 2024-07-12 14:28:29,991] Trial 20 finished with value: -2995.108199119375 and parameters: {'first_hidden_layer': 64, 'second_hidden_layer': 128, 'alpha': 0.0070056462369157985}. Best is trial 14 with value: -1629498.0028913624.\n",
      "[I 2024-07-12 14:28:30,218] Trial 21 finished with value: -1707191.674087258 and parameters: {'first_hidden_layer': 2, 'second_hidden_layer': 16, 'alpha': 0.0017039989595244768}. Best is trial 21 with value: -1707191.674087258.\n",
      "[I 2024-07-12 14:28:30,785] Trial 22 finished with value: -2182.4032516774637 and parameters: {'first_hidden_layer': 32, 'second_hidden_layer': 16, 'alpha': 0.0012401018825025415}. Best is trial 21 with value: -1707191.674087258.\n",
      "c:\\Python\\Python311\\Lib\\site-packages\\sklearn\\neural_network\\_multilayer_perceptron.py:690: ConvergenceWarning:\n",
      "\n",
      "Stochastic Optimizer: Maximum iterations (500) reached and the optimization hasn't converged yet.\n",
      "\n",
      "[I 2024-07-12 14:28:32,079] Trial 23 finished with value: -46063.02578064583 and parameters: {'first_hidden_layer': 2, 'second_hidden_layer': 4, 'alpha': 0.0027418701400786878}. Best is trial 21 with value: -1707191.674087258.\n",
      "[I 2024-07-12 14:28:32,851] Trial 24 finished with value: -498925.1283477669 and parameters: {'first_hidden_layer': 16, 'second_hidden_layer': 2, 'alpha': 0.008018595749417538}. Best is trial 21 with value: -1707191.674087258.\n",
      "c:\\Python\\Python311\\Lib\\site-packages\\sklearn\\neural_network\\_multilayer_perceptron.py:690: ConvergenceWarning:\n",
      "\n",
      "Stochastic Optimizer: Maximum iterations (500) reached and the optimization hasn't converged yet.\n",
      "\n",
      "[I 2024-07-12 14:28:34,098] Trial 25 finished with value: -12500.538802887053 and parameters: {'first_hidden_layer': 4, 'second_hidden_layer': 8, 'alpha': 0.0036240749456295128}. Best is trial 21 with value: -1707191.674087258.\n",
      "[I 2024-07-12 14:28:35,213] Trial 26 finished with value: -2028.6853435798175 and parameters: {'first_hidden_layer': 32, 'second_hidden_layer': 64, 'alpha': 0.006853303056836521}. Best is trial 21 with value: -1707191.674087258.\n",
      "[I 2024-07-12 14:28:36,059] Trial 27 finished with value: -7507.630173387435 and parameters: {'first_hidden_layer': 8, 'second_hidden_layer': 8, 'alpha': 0.008474182964582539}. Best is trial 21 with value: -1707191.674087258.\n",
      "[I 2024-07-12 14:28:37,017] Trial 28 finished with value: -2080.643967835404 and parameters: {'first_hidden_layer': 16, 'second_hidden_layer': 128, 'alpha': 0.0049608781616933256}. Best is trial 21 with value: -1707191.674087258.\n",
      "[I 2024-07-12 14:28:38,051] Trial 29 finished with value: -2012.6827980637133 and parameters: {'first_hidden_layer': 64, 'second_hidden_layer': 32, 'alpha': 0.006697963408256038}. Best is trial 21 with value: -1707191.674087258.\n",
      "[I 2024-07-12 14:28:39,501] Trial 30 finished with value: -2238.8833954570914 and parameters: {'first_hidden_layer': 16, 'second_hidden_layer': 128, 'alpha': 0.00842847675635141}. Best is trial 21 with value: -1707191.674087258.\n",
      "[I 2024-07-12 14:28:41,218] Trial 31 finished with value: -2097.249909069406 and parameters: {'first_hidden_layer': 16, 'second_hidden_layer': 128, 'alpha': 0.008898788792160347}. Best is trial 21 with value: -1707191.674087258.\n",
      "[I 2024-07-12 14:28:41,934] Trial 32 finished with value: -2768.4182497412367 and parameters: {'first_hidden_layer': 4, 'second_hidden_layer': 32, 'alpha': 0.0012910035834138595}. Best is trial 21 with value: -1707191.674087258.\n",
      "[I 2024-07-12 14:28:42,334] Trial 33 finished with value: -1061084.4661358395 and parameters: {'first_hidden_layer': 16, 'second_hidden_layer': 4, 'alpha': 0.0004223666615171265}. Best is trial 21 with value: -1707191.674087258.\n",
      "c:\\Python\\Python311\\Lib\\site-packages\\sklearn\\neural_network\\_multilayer_perceptron.py:690: ConvergenceWarning:\n",
      "\n",
      "Stochastic Optimizer: Maximum iterations (500) reached and the optimization hasn't converged yet.\n",
      "\n",
      "[I 2024-07-12 14:28:43,851] Trial 34 finished with value: -13958.789253373006 and parameters: {'first_hidden_layer': 4, 'second_hidden_layer': 4, 'alpha': 0.00035944086874661207}. Best is trial 21 with value: -1707191.674087258.\n",
      "c:\\Python\\Python311\\Lib\\site-packages\\sklearn\\neural_network\\_multilayer_perceptron.py:690: ConvergenceWarning:\n",
      "\n",
      "Stochastic Optimizer: Maximum iterations (500) reached and the optimization hasn't converged yet.\n",
      "\n",
      "[I 2024-07-12 14:28:46,426] Trial 35 finished with value: -435768.6673418891 and parameters: {'first_hidden_layer': 4, 'second_hidden_layer': 128, 'alpha': 0.00348398048194924}. Best is trial 21 with value: -1707191.674087258.\n",
      "[I 2024-07-12 14:28:47,151] Trial 36 finished with value: -5768.908403291815 and parameters: {'first_hidden_layer': 16, 'second_hidden_layer': 8, 'alpha': 0.0015524865316047273}. Best is trial 21 with value: -1707191.674087258.\n",
      "[I 2024-07-12 14:28:48,901] Trial 37 finished with value: -2206.582997806348 and parameters: {'first_hidden_layer': 4, 'second_hidden_layer': 64, 'alpha': 0.002965357697529368}. Best is trial 21 with value: -1707191.674087258.\n",
      "c:\\Python\\Python311\\Lib\\site-packages\\sklearn\\neural_network\\_multilayer_perceptron.py:690: ConvergenceWarning:\n",
      "\n",
      "Stochastic Optimizer: Maximum iterations (500) reached and the optimization hasn't converged yet.\n",
      "\n",
      "[I 2024-07-12 14:28:49,941] Trial 38 finished with value: -661431.1278074792 and parameters: {'first_hidden_layer': 2, 'second_hidden_layer': 4, 'alpha': 0.008266401911653974}. Best is trial 21 with value: -1707191.674087258.\n",
      "[I 2024-07-12 14:28:50,916] Trial 39 finished with value: -1968.3943623338625 and parameters: {'first_hidden_layer': 128, 'second_hidden_layer': 32, 'alpha': 0.003227193774668702}. Best is trial 21 with value: -1707191.674087258.\n",
      "[I 2024-07-12 14:28:51,235] Trial 40 finished with value: -1064273.6430530094 and parameters: {'first_hidden_layer': 16, 'second_hidden_layer': 2, 'alpha': 0.0018331329317249343}. Best is trial 21 with value: -1707191.674087258.\n",
      "[I 2024-07-12 14:28:52,763] Trial 41 finished with value: -6462.833751712591 and parameters: {'first_hidden_layer': 4, 'second_hidden_layer': 64, 'alpha': 0.004916612166876517}. Best is trial 21 with value: -1707191.674087258.\n",
      "[I 2024-07-12 14:28:53,625] Trial 42 finished with value: -501240.3380228369 and parameters: {'first_hidden_layer': 2, 'second_hidden_layer': 16, 'alpha': 0.003692781731804079}. Best is trial 21 with value: -1707191.674087258.\n",
      "[I 2024-07-12 14:28:54,836] Trial 43 finished with value: -2182.6367315222647 and parameters: {'first_hidden_layer': 64, 'second_hidden_layer': 128, 'alpha': 0.00476974589970735}. Best is trial 21 with value: -1707191.674087258.\n",
      "[I 2024-07-12 14:28:55,463] Trial 44 finished with value: -1146189.6111961952 and parameters: {'first_hidden_layer': 2, 'second_hidden_layer': 8, 'alpha': 0.001054325659848085}. Best is trial 21 with value: -1707191.674087258.\n",
      "[I 2024-07-12 14:28:55,746] Trial 45 finished with value: -1705871.0686591277 and parameters: {'first_hidden_layer': 64, 'second_hidden_layer': 2, 'alpha': 0.00727399327312772}. Best is trial 21 with value: -1707191.674087258.\n",
      "c:\\Python\\Python311\\Lib\\site-packages\\sklearn\\neural_network\\_multilayer_perceptron.py:690: ConvergenceWarning:\n",
      "\n",
      "Stochastic Optimizer: Maximum iterations (500) reached and the optimization hasn't converged yet.\n",
      "\n",
      "[I 2024-07-12 14:28:56,634] Trial 46 finished with value: -1062423.8705394287 and parameters: {'first_hidden_layer': 2, 'second_hidden_layer': 4, 'alpha': 0.009905126068644517}. Best is trial 21 with value: -1707191.674087258.\n",
      "c:\\Python\\Python311\\Lib\\site-packages\\sklearn\\neural_network\\_multilayer_perceptron.py:690: ConvergenceWarning:\n",
      "\n",
      "Stochastic Optimizer: Maximum iterations (500) reached and the optimization hasn't converged yet.\n",
      "\n",
      "[I 2024-07-12 14:28:57,966] Trial 47 finished with value: -19530.122885419685 and parameters: {'first_hidden_layer': 4, 'second_hidden_layer': 4, 'alpha': 0.009353721082154647}. Best is trial 21 with value: -1707191.674087258.\n",
      "[I 2024-07-12 14:28:58,530] Trial 48 finished with value: -2652.786976555512 and parameters: {'first_hidden_layer': 16, 'second_hidden_layer': 32, 'alpha': 0.0010601204239622142}. Best is trial 21 with value: -1707191.674087258.\n",
      "[I 2024-07-12 14:28:59,396] Trial 49 finished with value: -2932.071032050281 and parameters: {'first_hidden_layer': 128, 'second_hidden_layer': 32, 'alpha': 0.009049578839201428}. Best is trial 21 with value: -1707191.674087258.\n"
     ]
    }
   ],
   "source": [
    "study.optimize(objective, n_trials=50)"
   ]
  },
  {
   "cell_type": "code",
   "execution_count": 54,
   "metadata": {},
   "outputs": [
    {
     "data": {
      "application/vnd.plotly.v1+json": {
       "config": {
        "plotlyServerURL": "https://plot.ly"
       },
       "data": [
        {
         "dimensions": [
          {
           "label": "Objective Value",
           "range": [
            -1707191.674087258,
            -1946.8765598918555
           ],
           "values": [
            -1150411.4820437878,
            -575487.7696493791,
            -1629498.0028913624,
            -1157012.4773303801,
            -46063.02578064583,
            -661431.1278074792,
            -1062423.8705394287,
            -1146189.6111961952,
            -1707191.674087258,
            -501240.3380228369,
            -2086.4518841712265,
            -585359.4972787673,
            -3170.9799740960902,
            -13958.789253373006,
            -19530.122885419685,
            -8323.648752130548,
            -12500.538802887053,
            -2768.4182497412367,
            -6633.191672410191,
            -2206.582997806348,
            -6462.833751712591,
            -435768.6673418891,
            -2693.650994096583,
            -7369.167265664229,
            -7507.630173387435,
            -498925.1283477669,
            -1064273.6430530094,
            -1061084.4661358395,
            -5768.908403291815,
            -2376.762461183146,
            -2652.786976555512,
            -1978.7486412762664,
            -2080.643967835404,
            -2238.8833954570914,
            -2097.249909069406,
            -12567.066314127047,
            -5506.231557508185,
            -7800.547437522095,
            -2182.4032516774637,
            -2028.6853435798175,
            -1705871.0686591277,
            -2012.6827980637133,
            -2995.108199119375,
            -2182.6367315222647,
            -12540.117240455918,
            -12458.553886445085,
            -2087.445558102233,
            -1946.8765598918555,
            -1968.3943623338625,
            -2932.071032050281
           ]
          },
          {
           "label": "alpha",
           "range": [
            0.00035944086874661207,
            0.009905126068644517
           ],
           "values": [
            0.0020240037238750657,
            0.00834341932513804,
            0.004371600787289873,
            0.00939697744501775,
            0.0027418701400786878,
            0.008266401911653974,
            0.009905126068644517,
            0.001054325659848085,
            0.0017039989595244768,
            0.003692781731804079,
            0.0018771158103860724,
            0.0042077505523779165,
            0.005436460329869437,
            0.00035944086874661207,
            0.009353721082154647,
            0.001242789199862469,
            0.0036240749456295128,
            0.0012910035834138595,
            0.003331629330688833,
            0.002965357697529368,
            0.004916612166876517,
            0.00348398048194924,
            0.004340402312092,
            0.00452780592529977,
            0.008474182964582539,
            0.008018595749417538,
            0.0018331329317249343,
            0.0004223666615171265,
            0.0015524865316047273,
            0.004650328980405494,
            0.0010601204239622142,
            0.004000892054670908,
            0.0049608781616933256,
            0.00842847675635141,
            0.008898788792160347,
            0.00607783544873649,
            0.009627824320580198,
            0.007917699897619588,
            0.0012401018825025415,
            0.006853303056836521,
            0.00727399327312772,
            0.006697963408256038,
            0.0070056462369157985,
            0.00476974589970735,
            0.003463705389406462,
            0.003956746935514523,
            0.006051402598993809,
            0.0016198830360719247,
            0.003227193774668702,
            0.009049578839201428
           ]
          },
          {
           "label": "first_hidden_layer",
           "range": [
            0,
            6
           ],
           "ticktext": [
            "2",
            "4",
            "8",
            "16",
            "32",
            "64",
            "128"
           ],
           "tickvals": [
            0,
            1,
            2,
            3,
            4,
            5,
            6
           ],
           "values": [
            0,
            0,
            0,
            0,
            0,
            0,
            0,
            0,
            0,
            0,
            0,
            0,
            1,
            1,
            1,
            1,
            1,
            1,
            1,
            1,
            1,
            1,
            2,
            2,
            2,
            3,
            3,
            3,
            3,
            3,
            3,
            3,
            3,
            3,
            3,
            4,
            4,
            4,
            4,
            4,
            5,
            5,
            5,
            5,
            6,
            6,
            6,
            6,
            6,
            6
           ]
          },
          {
           "label": "second_hidden_layer",
           "range": [
            0,
            6
           ],
           "ticktext": [
            "2",
            "4",
            "8",
            "16",
            "32",
            "64",
            "128"
           ],
           "tickvals": [
            0,
            1,
            2,
            3,
            4,
            5,
            6
           ],
           "values": [
            0,
            1,
            1,
            1,
            1,
            1,
            1,
            2,
            3,
            3,
            5,
            6,
            1,
            1,
            1,
            2,
            2,
            4,
            5,
            5,
            5,
            6,
            2,
            2,
            2,
            0,
            0,
            1,
            2,
            4,
            4,
            6,
            6,
            6,
            6,
            0,
            1,
            2,
            3,
            5,
            0,
            4,
            6,
            6,
            0,
            1,
            3,
            4,
            4,
            4
           ]
          }
         ],
         "labelangle": 30,
         "labelside": "bottom",
         "line": {
          "color": [
           -1150411.4820437878,
           -575487.7696493791,
           -1629498.0028913624,
           -1157012.4773303801,
           -46063.02578064583,
           -661431.1278074792,
           -1062423.8705394287,
           -1146189.6111961952,
           -1707191.674087258,
           -501240.3380228369,
           -2086.4518841712265,
           -585359.4972787673,
           -3170.9799740960902,
           -13958.789253373006,
           -19530.122885419685,
           -8323.648752130548,
           -12500.538802887053,
           -2768.4182497412367,
           -6633.191672410191,
           -2206.582997806348,
           -6462.833751712591,
           -435768.6673418891,
           -2693.650994096583,
           -7369.167265664229,
           -7507.630173387435,
           -498925.1283477669,
           -1064273.6430530094,
           -1061084.4661358395,
           -5768.908403291815,
           -2376.762461183146,
           -2652.786976555512,
           -1978.7486412762664,
           -2080.643967835404,
           -2238.8833954570914,
           -2097.249909069406,
           -12567.066314127047,
           -5506.231557508185,
           -7800.547437522095,
           -2182.4032516774637,
           -2028.6853435798175,
           -1705871.0686591277,
           -2012.6827980637133,
           -2995.108199119375,
           -2182.6367315222647,
           -12540.117240455918,
           -12458.553886445085,
           -2087.445558102233,
           -1946.8765598918555,
           -1968.3943623338625,
           -2932.071032050281
          ],
          "colorbar": {
           "title": {
            "text": "Objective Value"
           }
          },
          "colorscale": [
           [
            0,
            "rgb(247,251,255)"
           ],
           [
            0.125,
            "rgb(222,235,247)"
           ],
           [
            0.25,
            "rgb(198,219,239)"
           ],
           [
            0.375,
            "rgb(158,202,225)"
           ],
           [
            0.5,
            "rgb(107,174,214)"
           ],
           [
            0.625,
            "rgb(66,146,198)"
           ],
           [
            0.75,
            "rgb(33,113,181)"
           ],
           [
            0.875,
            "rgb(8,81,156)"
           ],
           [
            1,
            "rgb(8,48,107)"
           ]
          ],
          "reversescale": true,
          "showscale": true
         },
         "type": "parcoords"
        }
       ],
       "layout": {
        "template": {
         "data": {
          "bar": [
           {
            "error_x": {
             "color": "#2a3f5f"
            },
            "error_y": {
             "color": "#2a3f5f"
            },
            "marker": {
             "line": {
              "color": "#E5ECF6",
              "width": 0.5
             },
             "pattern": {
              "fillmode": "overlay",
              "size": 10,
              "solidity": 0.2
             }
            },
            "type": "bar"
           }
          ],
          "barpolar": [
           {
            "marker": {
             "line": {
              "color": "#E5ECF6",
              "width": 0.5
             },
             "pattern": {
              "fillmode": "overlay",
              "size": 10,
              "solidity": 0.2
             }
            },
            "type": "barpolar"
           }
          ],
          "carpet": [
           {
            "aaxis": {
             "endlinecolor": "#2a3f5f",
             "gridcolor": "white",
             "linecolor": "white",
             "minorgridcolor": "white",
             "startlinecolor": "#2a3f5f"
            },
            "baxis": {
             "endlinecolor": "#2a3f5f",
             "gridcolor": "white",
             "linecolor": "white",
             "minorgridcolor": "white",
             "startlinecolor": "#2a3f5f"
            },
            "type": "carpet"
           }
          ],
          "choropleth": [
           {
            "colorbar": {
             "outlinewidth": 0,
             "ticks": ""
            },
            "type": "choropleth"
           }
          ],
          "contour": [
           {
            "colorbar": {
             "outlinewidth": 0,
             "ticks": ""
            },
            "colorscale": [
             [
              0,
              "#0d0887"
             ],
             [
              0.1111111111111111,
              "#46039f"
             ],
             [
              0.2222222222222222,
              "#7201a8"
             ],
             [
              0.3333333333333333,
              "#9c179e"
             ],
             [
              0.4444444444444444,
              "#bd3786"
             ],
             [
              0.5555555555555556,
              "#d8576b"
             ],
             [
              0.6666666666666666,
              "#ed7953"
             ],
             [
              0.7777777777777778,
              "#fb9f3a"
             ],
             [
              0.8888888888888888,
              "#fdca26"
             ],
             [
              1,
              "#f0f921"
             ]
            ],
            "type": "contour"
           }
          ],
          "contourcarpet": [
           {
            "colorbar": {
             "outlinewidth": 0,
             "ticks": ""
            },
            "type": "contourcarpet"
           }
          ],
          "heatmap": [
           {
            "colorbar": {
             "outlinewidth": 0,
             "ticks": ""
            },
            "colorscale": [
             [
              0,
              "#0d0887"
             ],
             [
              0.1111111111111111,
              "#46039f"
             ],
             [
              0.2222222222222222,
              "#7201a8"
             ],
             [
              0.3333333333333333,
              "#9c179e"
             ],
             [
              0.4444444444444444,
              "#bd3786"
             ],
             [
              0.5555555555555556,
              "#d8576b"
             ],
             [
              0.6666666666666666,
              "#ed7953"
             ],
             [
              0.7777777777777778,
              "#fb9f3a"
             ],
             [
              0.8888888888888888,
              "#fdca26"
             ],
             [
              1,
              "#f0f921"
             ]
            ],
            "type": "heatmap"
           }
          ],
          "heatmapgl": [
           {
            "colorbar": {
             "outlinewidth": 0,
             "ticks": ""
            },
            "colorscale": [
             [
              0,
              "#0d0887"
             ],
             [
              0.1111111111111111,
              "#46039f"
             ],
             [
              0.2222222222222222,
              "#7201a8"
             ],
             [
              0.3333333333333333,
              "#9c179e"
             ],
             [
              0.4444444444444444,
              "#bd3786"
             ],
             [
              0.5555555555555556,
              "#d8576b"
             ],
             [
              0.6666666666666666,
              "#ed7953"
             ],
             [
              0.7777777777777778,
              "#fb9f3a"
             ],
             [
              0.8888888888888888,
              "#fdca26"
             ],
             [
              1,
              "#f0f921"
             ]
            ],
            "type": "heatmapgl"
           }
          ],
          "histogram": [
           {
            "marker": {
             "pattern": {
              "fillmode": "overlay",
              "size": 10,
              "solidity": 0.2
             }
            },
            "type": "histogram"
           }
          ],
          "histogram2d": [
           {
            "colorbar": {
             "outlinewidth": 0,
             "ticks": ""
            },
            "colorscale": [
             [
              0,
              "#0d0887"
             ],
             [
              0.1111111111111111,
              "#46039f"
             ],
             [
              0.2222222222222222,
              "#7201a8"
             ],
             [
              0.3333333333333333,
              "#9c179e"
             ],
             [
              0.4444444444444444,
              "#bd3786"
             ],
             [
              0.5555555555555556,
              "#d8576b"
             ],
             [
              0.6666666666666666,
              "#ed7953"
             ],
             [
              0.7777777777777778,
              "#fb9f3a"
             ],
             [
              0.8888888888888888,
              "#fdca26"
             ],
             [
              1,
              "#f0f921"
             ]
            ],
            "type": "histogram2d"
           }
          ],
          "histogram2dcontour": [
           {
            "colorbar": {
             "outlinewidth": 0,
             "ticks": ""
            },
            "colorscale": [
             [
              0,
              "#0d0887"
             ],
             [
              0.1111111111111111,
              "#46039f"
             ],
             [
              0.2222222222222222,
              "#7201a8"
             ],
             [
              0.3333333333333333,
              "#9c179e"
             ],
             [
              0.4444444444444444,
              "#bd3786"
             ],
             [
              0.5555555555555556,
              "#d8576b"
             ],
             [
              0.6666666666666666,
              "#ed7953"
             ],
             [
              0.7777777777777778,
              "#fb9f3a"
             ],
             [
              0.8888888888888888,
              "#fdca26"
             ],
             [
              1,
              "#f0f921"
             ]
            ],
            "type": "histogram2dcontour"
           }
          ],
          "mesh3d": [
           {
            "colorbar": {
             "outlinewidth": 0,
             "ticks": ""
            },
            "type": "mesh3d"
           }
          ],
          "parcoords": [
           {
            "line": {
             "colorbar": {
              "outlinewidth": 0,
              "ticks": ""
             }
            },
            "type": "parcoords"
           }
          ],
          "pie": [
           {
            "automargin": true,
            "type": "pie"
           }
          ],
          "scatter": [
           {
            "fillpattern": {
             "fillmode": "overlay",
             "size": 10,
             "solidity": 0.2
            },
            "type": "scatter"
           }
          ],
          "scatter3d": [
           {
            "line": {
             "colorbar": {
              "outlinewidth": 0,
              "ticks": ""
             }
            },
            "marker": {
             "colorbar": {
              "outlinewidth": 0,
              "ticks": ""
             }
            },
            "type": "scatter3d"
           }
          ],
          "scattercarpet": [
           {
            "marker": {
             "colorbar": {
              "outlinewidth": 0,
              "ticks": ""
             }
            },
            "type": "scattercarpet"
           }
          ],
          "scattergeo": [
           {
            "marker": {
             "colorbar": {
              "outlinewidth": 0,
              "ticks": ""
             }
            },
            "type": "scattergeo"
           }
          ],
          "scattergl": [
           {
            "marker": {
             "colorbar": {
              "outlinewidth": 0,
              "ticks": ""
             }
            },
            "type": "scattergl"
           }
          ],
          "scattermapbox": [
           {
            "marker": {
             "colorbar": {
              "outlinewidth": 0,
              "ticks": ""
             }
            },
            "type": "scattermapbox"
           }
          ],
          "scatterpolar": [
           {
            "marker": {
             "colorbar": {
              "outlinewidth": 0,
              "ticks": ""
             }
            },
            "type": "scatterpolar"
           }
          ],
          "scatterpolargl": [
           {
            "marker": {
             "colorbar": {
              "outlinewidth": 0,
              "ticks": ""
             }
            },
            "type": "scatterpolargl"
           }
          ],
          "scatterternary": [
           {
            "marker": {
             "colorbar": {
              "outlinewidth": 0,
              "ticks": ""
             }
            },
            "type": "scatterternary"
           }
          ],
          "surface": [
           {
            "colorbar": {
             "outlinewidth": 0,
             "ticks": ""
            },
            "colorscale": [
             [
              0,
              "#0d0887"
             ],
             [
              0.1111111111111111,
              "#46039f"
             ],
             [
              0.2222222222222222,
              "#7201a8"
             ],
             [
              0.3333333333333333,
              "#9c179e"
             ],
             [
              0.4444444444444444,
              "#bd3786"
             ],
             [
              0.5555555555555556,
              "#d8576b"
             ],
             [
              0.6666666666666666,
              "#ed7953"
             ],
             [
              0.7777777777777778,
              "#fb9f3a"
             ],
             [
              0.8888888888888888,
              "#fdca26"
             ],
             [
              1,
              "#f0f921"
             ]
            ],
            "type": "surface"
           }
          ],
          "table": [
           {
            "cells": {
             "fill": {
              "color": "#EBF0F8"
             },
             "line": {
              "color": "white"
             }
            },
            "header": {
             "fill": {
              "color": "#C8D4E3"
             },
             "line": {
              "color": "white"
             }
            },
            "type": "table"
           }
          ]
         },
         "layout": {
          "annotationdefaults": {
           "arrowcolor": "#2a3f5f",
           "arrowhead": 0,
           "arrowwidth": 1
          },
          "autotypenumbers": "strict",
          "coloraxis": {
           "colorbar": {
            "outlinewidth": 0,
            "ticks": ""
           }
          },
          "colorscale": {
           "diverging": [
            [
             0,
             "#8e0152"
            ],
            [
             0.1,
             "#c51b7d"
            ],
            [
             0.2,
             "#de77ae"
            ],
            [
             0.3,
             "#f1b6da"
            ],
            [
             0.4,
             "#fde0ef"
            ],
            [
             0.5,
             "#f7f7f7"
            ],
            [
             0.6,
             "#e6f5d0"
            ],
            [
             0.7,
             "#b8e186"
            ],
            [
             0.8,
             "#7fbc41"
            ],
            [
             0.9,
             "#4d9221"
            ],
            [
             1,
             "#276419"
            ]
           ],
           "sequential": [
            [
             0,
             "#0d0887"
            ],
            [
             0.1111111111111111,
             "#46039f"
            ],
            [
             0.2222222222222222,
             "#7201a8"
            ],
            [
             0.3333333333333333,
             "#9c179e"
            ],
            [
             0.4444444444444444,
             "#bd3786"
            ],
            [
             0.5555555555555556,
             "#d8576b"
            ],
            [
             0.6666666666666666,
             "#ed7953"
            ],
            [
             0.7777777777777778,
             "#fb9f3a"
            ],
            [
             0.8888888888888888,
             "#fdca26"
            ],
            [
             1,
             "#f0f921"
            ]
           ],
           "sequentialminus": [
            [
             0,
             "#0d0887"
            ],
            [
             0.1111111111111111,
             "#46039f"
            ],
            [
             0.2222222222222222,
             "#7201a8"
            ],
            [
             0.3333333333333333,
             "#9c179e"
            ],
            [
             0.4444444444444444,
             "#bd3786"
            ],
            [
             0.5555555555555556,
             "#d8576b"
            ],
            [
             0.6666666666666666,
             "#ed7953"
            ],
            [
             0.7777777777777778,
             "#fb9f3a"
            ],
            [
             0.8888888888888888,
             "#fdca26"
            ],
            [
             1,
             "#f0f921"
            ]
           ]
          },
          "colorway": [
           "#636efa",
           "#EF553B",
           "#00cc96",
           "#ab63fa",
           "#FFA15A",
           "#19d3f3",
           "#FF6692",
           "#B6E880",
           "#FF97FF",
           "#FECB52"
          ],
          "font": {
           "color": "#2a3f5f"
          },
          "geo": {
           "bgcolor": "white",
           "lakecolor": "white",
           "landcolor": "#E5ECF6",
           "showlakes": true,
           "showland": true,
           "subunitcolor": "white"
          },
          "hoverlabel": {
           "align": "left"
          },
          "hovermode": "closest",
          "mapbox": {
           "style": "light"
          },
          "paper_bgcolor": "white",
          "plot_bgcolor": "#E5ECF6",
          "polar": {
           "angularaxis": {
            "gridcolor": "white",
            "linecolor": "white",
            "ticks": ""
           },
           "bgcolor": "#E5ECF6",
           "radialaxis": {
            "gridcolor": "white",
            "linecolor": "white",
            "ticks": ""
           }
          },
          "scene": {
           "xaxis": {
            "backgroundcolor": "#E5ECF6",
            "gridcolor": "white",
            "gridwidth": 2,
            "linecolor": "white",
            "showbackground": true,
            "ticks": "",
            "zerolinecolor": "white"
           },
           "yaxis": {
            "backgroundcolor": "#E5ECF6",
            "gridcolor": "white",
            "gridwidth": 2,
            "linecolor": "white",
            "showbackground": true,
            "ticks": "",
            "zerolinecolor": "white"
           },
           "zaxis": {
            "backgroundcolor": "#E5ECF6",
            "gridcolor": "white",
            "gridwidth": 2,
            "linecolor": "white",
            "showbackground": true,
            "ticks": "",
            "zerolinecolor": "white"
           }
          },
          "shapedefaults": {
           "line": {
            "color": "#2a3f5f"
           }
          },
          "ternary": {
           "aaxis": {
            "gridcolor": "white",
            "linecolor": "white",
            "ticks": ""
           },
           "baxis": {
            "gridcolor": "white",
            "linecolor": "white",
            "ticks": ""
           },
           "bgcolor": "#E5ECF6",
           "caxis": {
            "gridcolor": "white",
            "linecolor": "white",
            "ticks": ""
           }
          },
          "title": {
           "x": 0.05
          },
          "xaxis": {
           "automargin": true,
           "gridcolor": "white",
           "linecolor": "white",
           "ticks": "",
           "title": {
            "standoff": 15
           },
           "zerolinecolor": "white",
           "zerolinewidth": 2
          },
          "yaxis": {
           "automargin": true,
           "gridcolor": "white",
           "linecolor": "white",
           "ticks": "",
           "title": {
            "standoff": 15
           },
           "zerolinecolor": "white",
           "zerolinewidth": 2
          }
         }
        },
        "title": {
         "text": "Parallel Coordinate Plot"
        }
       }
      }
     },
     "metadata": {},
     "output_type": "display_data"
    }
   ],
   "source": [
    "optuna.visualization.plot_parallel_coordinate(study)"
   ]
  },
  {
   "cell_type": "code",
   "execution_count": 56,
   "metadata": {},
   "outputs": [],
   "source": [
    "best_params =study.best_params\n",
    "\n",
    "best_first_hidden_layer = best_params['first_hidden_layer']\n",
    "best_second_hidden_layer = best_params['second_hidden_layer']\n",
    "best_alpha = best_params['alpha']\n",
    "\n",
    "\n",
    "best_model = MLPRegressor(hidden_layer_sizes=[best_first_hidden_layer, best_second_hidden_layer],\n",
    "                            activation='relu',\n",
    "                            solver='adam',\n",
    "                            alpha=best_alpha,\n",
    "                            learning_rate='adaptive',\n",
    "                            max_iter=500,\n",
    "                            validation_fraction=0.15,\n",
    "                            early_stopping=True)\n"
   ]
  },
  {
   "cell_type": "code",
   "execution_count": 57,
   "metadata": {},
   "outputs": [
    {
     "name": "stdout",
     "output_type": "stream",
     "text": [
      "the mean squared error is:  2745.6379795869248\n",
      "the mean absolute percentage error is:  35.721584834034736\n"
     ]
    }
   ],
   "source": [
    "best_model.fit(X_train,y_train)\n",
    "\n",
    "y_hat = best_model.predict(X_test)\n",
    "\n",
    "mse = mean_squared_error(y_test, y_hat)\n",
    "\n",
    "mape = mean_absolute_percentage_error(y_test, y_hat)*100\n",
    "\n",
    "print('the mean squared error is: ', mse)\n",
    "print('the mean absolute percentage error is: ', mape)"
   ]
  },
  {
   "cell_type": "code",
   "execution_count": null,
   "metadata": {},
   "outputs": [],
   "source": []
  }
 ],
 "metadata": {
  "kernelspec": {
   "display_name": "Python 3",
   "language": "python",
   "name": "python3"
  },
  "language_info": {
   "codemirror_mode": {
    "name": "ipython",
    "version": 3
   },
   "file_extension": ".py",
   "mimetype": "text/x-python",
   "name": "python",
   "nbconvert_exporter": "python",
   "pygments_lexer": "ipython3",
   "version": "3.11.5"
  }
 },
 "nbformat": 4,
 "nbformat_minor": 2
}
