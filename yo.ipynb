{
 "cells": [
  {
   "cell_type": "code",
   "execution_count": 1,
   "metadata": {},
   "outputs": [
    {
     "data": {
      "text/html": [
       "<div>\n",
       "<style scoped>\n",
       "    .dataframe tbody tr th:only-of-type {\n",
       "        vertical-align: middle;\n",
       "    }\n",
       "\n",
       "    .dataframe tbody tr th {\n",
       "        vertical-align: top;\n",
       "    }\n",
       "\n",
       "    .dataframe thead th {\n",
       "        text-align: right;\n",
       "    }\n",
       "</style>\n",
       "<table border=\"1\" class=\"dataframe\">\n",
       "  <thead>\n",
       "    <tr style=\"text-align: right;\">\n",
       "      <th></th>\n",
       "      <th>X1</th>\n",
       "      <th>X2</th>\n",
       "      <th>X3</th>\n",
       "      <th>Y</th>\n",
       "    </tr>\n",
       "  </thead>\n",
       "  <tbody>\n",
       "    <tr>\n",
       "      <th>0</th>\n",
       "      <td>140</td>\n",
       "      <td>0.160342</td>\n",
       "      <td>0</td>\n",
       "      <td>716.034154</td>\n",
       "    </tr>\n",
       "    <tr>\n",
       "      <th>1</th>\n",
       "      <td>89</td>\n",
       "      <td>0.921278</td>\n",
       "      <td>7</td>\n",
       "      <td>488.127849</td>\n",
       "    </tr>\n",
       "    <tr>\n",
       "      <th>2</th>\n",
       "      <td>420</td>\n",
       "      <td>0.745471</td>\n",
       "      <td>0</td>\n",
       "      <td>2174.547067</td>\n",
       "    </tr>\n",
       "    <tr>\n",
       "      <th>3</th>\n",
       "      <td>409</td>\n",
       "      <td>0.474618</td>\n",
       "      <td>6</td>\n",
       "      <td>2056.461779</td>\n",
       "    </tr>\n",
       "    <tr>\n",
       "      <th>4</th>\n",
       "      <td>93</td>\n",
       "      <td>0.184284</td>\n",
       "      <td>2</td>\n",
       "      <td>479.428356</td>\n",
       "    </tr>\n",
       "  </tbody>\n",
       "</table>\n",
       "</div>"
      ],
      "text/plain": [
       "    X1        X2  X3            Y\n",
       "0  140  0.160342   0   716.034154\n",
       "1   89  0.921278   7   488.127849\n",
       "2  420  0.745471   0  2174.547067\n",
       "3  409  0.474618   6  2056.461779\n",
       "4   93  0.184284   2   479.428356"
      ]
     },
     "execution_count": 1,
     "metadata": {},
     "output_type": "execute_result"
    }
   ],
   "source": [
    "import pandas as pd\n",
    "import numpy as np\n",
    "\n",
    "# Create a DataFrame with 1000 rows and 4 columns\n",
    "df = pd.DataFrame({\n",
    "    'X1': np.random.randint(-100, 501, size=1000),\n",
    "    'X2': np.random.uniform(0, 1, size=1000),\n",
    "    'X3': np.random.randint(0, 10, size=1000)\n",
    "})\n",
    "\n",
    "# Calculate the fourth column 'Y' using the given formula\n",
    "df['Y'] = 5 * df['X1'] + 100 * df['X2'] - df['X3'] ** 2\n",
    "\n",
    "df.head()"
   ]
  },
  {
   "cell_type": "code",
   "execution_count": 2,
   "metadata": {},
   "outputs": [],
   "source": [
    "df.to_csv('data.csv', index=False)"
   ]
  },
  {
   "cell_type": "code",
   "execution_count": null,
   "metadata": {},
   "outputs": [],
   "source": [
    "if st.session_state.data is not None:\n",
    "                    st.write(\"##\")\n",
    "                    st.markdown('<p class=\"section\">Caractéristiques</p>', unsafe_allow_html=True)\n",
    "                    st.write(' - Taille:', st.session_state.data.shape)\n",
    "                    st.write(' - Nombre de valeurs:', st.session_state.data.shape[0] * st.session_state.data.shape[1])\n",
    "                    st.write(' - Type des colonnes:', st.session_state.data.dtypes.value_counts())\n",
    "                    st.write(' - Pourcentage de valeurs manquantes:', round(\n",
    "                        sum(pd.DataFrame(st.session_state.data).isnull().sum(axis=1).tolist()) * 100 / (\n",
    "                                st.session_state.data.shape[0] * st.session_state.data.shape[1]), 2),\n",
    "                            ' % (', sum(pd.DataFrame(st.session_state.data).isnull().sum(axis=1).tolist()), ')')\n"
   ]
  }
 ],
 "metadata": {
  "kernelspec": {
   "display_name": "Python 3",
   "language": "python",
   "name": "python3"
  },
  "language_info": {
   "codemirror_mode": {
    "name": "ipython",
    "version": 3
   },
   "file_extension": ".py",
   "mimetype": "text/x-python",
   "name": "python",
   "nbconvert_exporter": "python",
   "pygments_lexer": "ipython3",
   "version": "3.11.5"
  }
 },
 "nbformat": 4,
 "nbformat_minor": 2
}
